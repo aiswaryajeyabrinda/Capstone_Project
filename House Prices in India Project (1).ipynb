{
 "cells": [
  {
   "cell_type": "markdown",
   "id": "226b3623",
   "metadata": {},
   "source": [
    "# House Prices in India"
   ]
  },
  {
   "cell_type": "markdown",
   "id": "6e7321cb",
   "metadata": {},
   "source": [
    "The aim is to Predict the efficient House Pricing for real estate customers with respect to their budgets and priorities."
   ]
  },
  {
   "cell_type": "markdown",
   "id": "e2846ccc",
   "metadata": {},
   "source": [
    "# Importing Libraries"
   ]
  },
  {
   "cell_type": "code",
   "execution_count": 900,
   "id": "9a7f5a08",
   "metadata": {},
   "outputs": [],
   "source": [
    "import pandas as pd\n",
    "import numpy as np\n",
    "import matplotlib.pyplot as plt\n",
    "import seaborn as sns"
   ]
  },
  {
   "cell_type": "markdown",
   "id": "bd70dd55",
   "metadata": {},
   "source": [
    "# Understanding the Data"
   ]
  },
  {
   "cell_type": "code",
   "execution_count": 901,
   "id": "2dc38aaf",
   "metadata": {},
   "outputs": [],
   "source": [
    "train = pd.read_csv(\"C:/Users/senth/Downloads/train.csv\")\n",
    "test = pd.read_csv(\"C:/Users/senth/Downloads/test.csv\")"
   ]
  },
  {
   "cell_type": "code",
   "execution_count": 902,
   "id": "15e300ec",
   "metadata": {},
   "outputs": [
    {
     "data": {
      "text/plain": [
       "(29451, 12)"
      ]
     },
     "execution_count": 902,
     "metadata": {},
     "output_type": "execute_result"
    }
   ],
   "source": [
    "train.shape"
   ]
  },
  {
   "cell_type": "code",
   "execution_count": 903,
   "id": "d93d4f46",
   "metadata": {},
   "outputs": [
    {
     "data": {
      "text/plain": [
       "Index(['POSTED_BY', 'UNDER_CONSTRUCTION', 'RERA', 'BHK_NO.', 'BHK_OR_RK',\n",
       "       'SQUARE_FT', 'READY_TO_MOVE', 'RESALE', 'ADDRESS', 'LONGITUDE',\n",
       "       'LATITUDE', 'TARGET(PRICE_IN_LACS)'],\n",
       "      dtype='object')"
      ]
     },
     "execution_count": 903,
     "metadata": {},
     "output_type": "execute_result"
    }
   ],
   "source": [
    "train.columns"
   ]
  },
  {
   "cell_type": "code",
   "execution_count": 904,
   "id": "b970cad5",
   "metadata": {},
   "outputs": [
    {
     "data": {
      "text/plain": [
       "(68720, 11)"
      ]
     },
     "execution_count": 904,
     "metadata": {},
     "output_type": "execute_result"
    }
   ],
   "source": [
    "test.shape"
   ]
  },
  {
   "cell_type": "code",
   "execution_count": 905,
   "id": "d5e9a424",
   "metadata": {},
   "outputs": [
    {
     "data": {
      "text/plain": [
       "Index(['POSTED_BY', 'UNDER_CONSTRUCTION', 'RERA', 'BHK_NO.', 'BHK_OR_RK',\n",
       "       'SQUARE_FT', 'READY_TO_MOVE', 'RESALE', 'ADDRESS', 'LONGITUDE',\n",
       "       'LATITUDE'],\n",
       "      dtype='object')"
      ]
     },
     "execution_count": 905,
     "metadata": {},
     "output_type": "execute_result"
    }
   ],
   "source": [
    "test.columns"
   ]
  },
  {
   "cell_type": "markdown",
   "id": "3ff4336f",
   "metadata": {},
   "source": [
    "##### Adding a column to identify whether a row comes from train or not"
   ]
  },
  {
   "cell_type": "code",
   "execution_count": 906,
   "id": "7780c221",
   "metadata": {},
   "outputs": [],
   "source": [
    "test['is_train'] = 0\n",
    "train['is_train'] = 1"
   ]
  },
  {
   "cell_type": "markdown",
   "id": "2f4f5941",
   "metadata": {},
   "source": [
    "is_train ->  if price of house is less than 25 lakhs assign 0 else is_train = 1"
   ]
  },
  {
   "cell_type": "markdown",
   "id": "246fe010",
   "metadata": {},
   "source": [
    "###### Combining train and test"
   ]
  },
  {
   "cell_type": "code",
   "execution_count": 907,
   "id": "06499ceb",
   "metadata": {},
   "outputs": [],
   "source": [
    "data = pd.concat([train,test],ignore_index=True)"
   ]
  },
  {
   "cell_type": "code",
   "execution_count": 910,
   "id": "3ee11937",
   "metadata": {},
   "outputs": [
    {
     "data": {
      "text/html": [
       "<div>\n",
       "<style scoped>\n",
       "    .dataframe tbody tr th:only-of-type {\n",
       "        vertical-align: middle;\n",
       "    }\n",
       "\n",
       "    .dataframe tbody tr th {\n",
       "        vertical-align: top;\n",
       "    }\n",
       "\n",
       "    .dataframe thead th {\n",
       "        text-align: right;\n",
       "    }\n",
       "</style>\n",
       "<table border=\"1\" class=\"dataframe\">\n",
       "  <thead>\n",
       "    <tr style=\"text-align: right;\">\n",
       "      <th></th>\n",
       "      <th>POSTED_BY</th>\n",
       "      <th>UNDER_CONSTRUCTION</th>\n",
       "      <th>RERA</th>\n",
       "      <th>BHK_NO.</th>\n",
       "      <th>BHK_OR_RK</th>\n",
       "      <th>SQUARE_FT</th>\n",
       "      <th>READY_TO_MOVE</th>\n",
       "      <th>RESALE</th>\n",
       "      <th>ADDRESS</th>\n",
       "      <th>LONGITUDE</th>\n",
       "      <th>LATITUDE</th>\n",
       "      <th>TARGET(PRICE_IN_LACS)</th>\n",
       "      <th>is_train</th>\n",
       "    </tr>\n",
       "  </thead>\n",
       "  <tbody>\n",
       "    <tr>\n",
       "      <th>0</th>\n",
       "      <td>Owner</td>\n",
       "      <td>0</td>\n",
       "      <td>0</td>\n",
       "      <td>2</td>\n",
       "      <td>BHK</td>\n",
       "      <td>1300.236407</td>\n",
       "      <td>1</td>\n",
       "      <td>1</td>\n",
       "      <td>Ksfc Layout,Bangalore</td>\n",
       "      <td>12.969910</td>\n",
       "      <td>77.597960</td>\n",
       "      <td>55.0</td>\n",
       "      <td>1</td>\n",
       "    </tr>\n",
       "    <tr>\n",
       "      <th>1</th>\n",
       "      <td>Dealer</td>\n",
       "      <td>0</td>\n",
       "      <td>0</td>\n",
       "      <td>2</td>\n",
       "      <td>BHK</td>\n",
       "      <td>1275.000000</td>\n",
       "      <td>1</td>\n",
       "      <td>1</td>\n",
       "      <td>Vishweshwara Nagar,Mysore</td>\n",
       "      <td>12.274538</td>\n",
       "      <td>76.644605</td>\n",
       "      <td>51.0</td>\n",
       "      <td>1</td>\n",
       "    </tr>\n",
       "    <tr>\n",
       "      <th>2</th>\n",
       "      <td>Owner</td>\n",
       "      <td>0</td>\n",
       "      <td>0</td>\n",
       "      <td>2</td>\n",
       "      <td>BHK</td>\n",
       "      <td>933.159722</td>\n",
       "      <td>1</td>\n",
       "      <td>1</td>\n",
       "      <td>Jigani,Bangalore</td>\n",
       "      <td>12.778033</td>\n",
       "      <td>77.632191</td>\n",
       "      <td>43.0</td>\n",
       "      <td>1</td>\n",
       "    </tr>\n",
       "    <tr>\n",
       "      <th>3</th>\n",
       "      <td>Owner</td>\n",
       "      <td>0</td>\n",
       "      <td>1</td>\n",
       "      <td>2</td>\n",
       "      <td>BHK</td>\n",
       "      <td>929.921143</td>\n",
       "      <td>1</td>\n",
       "      <td>1</td>\n",
       "      <td>Sector-1 Vaishali,Ghaziabad</td>\n",
       "      <td>28.642300</td>\n",
       "      <td>77.344500</td>\n",
       "      <td>62.5</td>\n",
       "      <td>1</td>\n",
       "    </tr>\n",
       "    <tr>\n",
       "      <th>4</th>\n",
       "      <td>Dealer</td>\n",
       "      <td>1</td>\n",
       "      <td>0</td>\n",
       "      <td>2</td>\n",
       "      <td>BHK</td>\n",
       "      <td>999.009247</td>\n",
       "      <td>0</td>\n",
       "      <td>1</td>\n",
       "      <td>New Town,Kolkata</td>\n",
       "      <td>22.592200</td>\n",
       "      <td>88.484911</td>\n",
       "      <td>60.5</td>\n",
       "      <td>1</td>\n",
       "    </tr>\n",
       "    <tr>\n",
       "      <th>...</th>\n",
       "      <td>...</td>\n",
       "      <td>...</td>\n",
       "      <td>...</td>\n",
       "      <td>...</td>\n",
       "      <td>...</td>\n",
       "      <td>...</td>\n",
       "      <td>...</td>\n",
       "      <td>...</td>\n",
       "      <td>...</td>\n",
       "      <td>...</td>\n",
       "      <td>...</td>\n",
       "      <td>...</td>\n",
       "      <td>...</td>\n",
       "    </tr>\n",
       "    <tr>\n",
       "      <th>95</th>\n",
       "      <td>Dealer</td>\n",
       "      <td>0</td>\n",
       "      <td>0</td>\n",
       "      <td>3</td>\n",
       "      <td>BHK</td>\n",
       "      <td>1200.082764</td>\n",
       "      <td>1</td>\n",
       "      <td>1</td>\n",
       "      <td>Satgachi,Kolkata</td>\n",
       "      <td>23.207157</td>\n",
       "      <td>88.404471</td>\n",
       "      <td>58.0</td>\n",
       "      <td>1</td>\n",
       "    </tr>\n",
       "    <tr>\n",
       "      <th>96</th>\n",
       "      <td>Dealer</td>\n",
       "      <td>0</td>\n",
       "      <td>0</td>\n",
       "      <td>2</td>\n",
       "      <td>BHK</td>\n",
       "      <td>1584.283904</td>\n",
       "      <td>1</td>\n",
       "      <td>1</td>\n",
       "      <td>Tilak Nagar,Kanpur</td>\n",
       "      <td>26.459137</td>\n",
       "      <td>79.506922</td>\n",
       "      <td>100.0</td>\n",
       "      <td>1</td>\n",
       "    </tr>\n",
       "    <tr>\n",
       "      <th>97</th>\n",
       "      <td>Owner</td>\n",
       "      <td>0</td>\n",
       "      <td>0</td>\n",
       "      <td>2</td>\n",
       "      <td>BHK</td>\n",
       "      <td>900.000000</td>\n",
       "      <td>1</td>\n",
       "      <td>1</td>\n",
       "      <td>Kalol,Gandhinagar</td>\n",
       "      <td>23.225700</td>\n",
       "      <td>72.516790</td>\n",
       "      <td>18.0</td>\n",
       "      <td>1</td>\n",
       "    </tr>\n",
       "    <tr>\n",
       "      <th>98</th>\n",
       "      <td>Dealer</td>\n",
       "      <td>0</td>\n",
       "      <td>1</td>\n",
       "      <td>2</td>\n",
       "      <td>BHK</td>\n",
       "      <td>1193.440032</td>\n",
       "      <td>1</td>\n",
       "      <td>1</td>\n",
       "      <td>Talegaon,Pune</td>\n",
       "      <td>18.441256</td>\n",
       "      <td>74.647361</td>\n",
       "      <td>60.4</td>\n",
       "      <td>1</td>\n",
       "    </tr>\n",
       "    <tr>\n",
       "      <th>99</th>\n",
       "      <td>Owner</td>\n",
       "      <td>0</td>\n",
       "      <td>0</td>\n",
       "      <td>2</td>\n",
       "      <td>BHK</td>\n",
       "      <td>1487.357462</td>\n",
       "      <td>1</td>\n",
       "      <td>1</td>\n",
       "      <td>Mansarovar Extension,Jaipur</td>\n",
       "      <td>26.862600</td>\n",
       "      <td>75.763300</td>\n",
       "      <td>30.0</td>\n",
       "      <td>1</td>\n",
       "    </tr>\n",
       "  </tbody>\n",
       "</table>\n",
       "<p>100 rows × 13 columns</p>\n",
       "</div>"
      ],
      "text/plain": [
       "   POSTED_BY  UNDER_CONSTRUCTION  RERA  BHK_NO. BHK_OR_RK    SQUARE_FT  \\\n",
       "0      Owner                   0     0        2       BHK  1300.236407   \n",
       "1     Dealer                   0     0        2       BHK  1275.000000   \n",
       "2      Owner                   0     0        2       BHK   933.159722   \n",
       "3      Owner                   0     1        2       BHK   929.921143   \n",
       "4     Dealer                   1     0        2       BHK   999.009247   \n",
       "..       ...                 ...   ...      ...       ...          ...   \n",
       "95    Dealer                   0     0        3       BHK  1200.082764   \n",
       "96    Dealer                   0     0        2       BHK  1584.283904   \n",
       "97     Owner                   0     0        2       BHK   900.000000   \n",
       "98    Dealer                   0     1        2       BHK  1193.440032   \n",
       "99     Owner                   0     0        2       BHK  1487.357462   \n",
       "\n",
       "    READY_TO_MOVE  RESALE                      ADDRESS  LONGITUDE   LATITUDE  \\\n",
       "0               1       1        Ksfc Layout,Bangalore  12.969910  77.597960   \n",
       "1               1       1    Vishweshwara Nagar,Mysore  12.274538  76.644605   \n",
       "2               1       1             Jigani,Bangalore  12.778033  77.632191   \n",
       "3               1       1  Sector-1 Vaishali,Ghaziabad  28.642300  77.344500   \n",
       "4               0       1             New Town,Kolkata  22.592200  88.484911   \n",
       "..            ...     ...                          ...        ...        ...   \n",
       "95              1       1             Satgachi,Kolkata  23.207157  88.404471   \n",
       "96              1       1           Tilak Nagar,Kanpur  26.459137  79.506922   \n",
       "97              1       1            Kalol,Gandhinagar  23.225700  72.516790   \n",
       "98              1       1                Talegaon,Pune  18.441256  74.647361   \n",
       "99              1       1  Mansarovar Extension,Jaipur  26.862600  75.763300   \n",
       "\n",
       "    TARGET(PRICE_IN_LACS)  is_train  \n",
       "0                    55.0         1  \n",
       "1                    51.0         1  \n",
       "2                    43.0         1  \n",
       "3                    62.5         1  \n",
       "4                    60.5         1  \n",
       "..                    ...       ...  \n",
       "95                   58.0         1  \n",
       "96                  100.0         1  \n",
       "97                   18.0         1  \n",
       "98                   60.4         1  \n",
       "99                   30.0         1  \n",
       "\n",
       "[100 rows x 13 columns]"
      ]
     },
     "execution_count": 910,
     "metadata": {},
     "output_type": "execute_result"
    }
   ],
   "source": [
    "data.head()"
   ]
  },
  {
   "cell_type": "code",
   "execution_count": 846,
   "id": "4442bce5",
   "metadata": {},
   "outputs": [
    {
     "data": {
      "text/plain": [
       "(98171, 13)"
      ]
     },
     "execution_count": 846,
     "metadata": {},
     "output_type": "execute_result"
    }
   ],
   "source": [
    "data.shape"
   ]
  },
  {
   "cell_type": "code",
   "execution_count": 847,
   "id": "d94b9611",
   "metadata": {},
   "outputs": [
    {
     "data": {
      "text/plain": [
       "Index(['POSTED_BY', 'UNDER_CONSTRUCTION', 'RERA', 'BHK_NO.', 'BHK_OR_RK',\n",
       "       'SQUARE_FT', 'READY_TO_MOVE', 'RESALE', 'ADDRESS', 'LONGITUDE',\n",
       "       'LATITUDE', 'TARGET(PRICE_IN_LACS)', 'is_train'],\n",
       "      dtype='object')"
      ]
     },
     "execution_count": 847,
     "metadata": {},
     "output_type": "execute_result"
    }
   ],
   "source": [
    "data.columns"
   ]
  },
  {
   "cell_type": "code",
   "execution_count": 848,
   "id": "da40e875",
   "metadata": {},
   "outputs": [
    {
     "name": "stdout",
     "output_type": "stream",
     "text": [
      "<class 'pandas.core.frame.DataFrame'>\n",
      "RangeIndex: 98171 entries, 0 to 98170\n",
      "Data columns (total 13 columns):\n",
      " #   Column                 Non-Null Count  Dtype  \n",
      "---  ------                 --------------  -----  \n",
      " 0   POSTED_BY              98171 non-null  object \n",
      " 1   UNDER_CONSTRUCTION     98171 non-null  int64  \n",
      " 2   RERA                   98171 non-null  int64  \n",
      " 3   BHK_NO.                98171 non-null  int64  \n",
      " 4   BHK_OR_RK              98171 non-null  object \n",
      " 5   SQUARE_FT              98171 non-null  float64\n",
      " 6   READY_TO_MOVE          98171 non-null  int64  \n",
      " 7   RESALE                 98171 non-null  int64  \n",
      " 8   ADDRESS                98171 non-null  object \n",
      " 9   LONGITUDE              98171 non-null  float64\n",
      " 10  LATITUDE               98171 non-null  float64\n",
      " 11  TARGET(PRICE_IN_LACS)  29451 non-null  float64\n",
      " 12  is_train               98171 non-null  int64  \n",
      "dtypes: float64(4), int64(6), object(3)\n",
      "memory usage: 9.7+ MB\n"
     ]
    }
   ],
   "source": [
    "data.info()"
   ]
  },
  {
   "cell_type": "code",
   "execution_count": 849,
   "id": "c5d3b6ef",
   "metadata": {},
   "outputs": [
    {
     "data": {
      "text/html": [
       "<div>\n",
       "<style scoped>\n",
       "    .dataframe tbody tr th:only-of-type {\n",
       "        vertical-align: middle;\n",
       "    }\n",
       "\n",
       "    .dataframe tbody tr th {\n",
       "        vertical-align: top;\n",
       "    }\n",
       "\n",
       "    .dataframe thead th {\n",
       "        text-align: right;\n",
       "    }\n",
       "</style>\n",
       "<table border=\"1\" class=\"dataframe\">\n",
       "  <thead>\n",
       "    <tr style=\"text-align: right;\">\n",
       "      <th></th>\n",
       "      <th>UNDER_CONSTRUCTION</th>\n",
       "      <th>RERA</th>\n",
       "      <th>BHK_NO.</th>\n",
       "      <th>SQUARE_FT</th>\n",
       "      <th>READY_TO_MOVE</th>\n",
       "      <th>RESALE</th>\n",
       "      <th>LONGITUDE</th>\n",
       "      <th>LATITUDE</th>\n",
       "      <th>TARGET(PRICE_IN_LACS)</th>\n",
       "      <th>is_train</th>\n",
       "    </tr>\n",
       "  </thead>\n",
       "  <tbody>\n",
       "    <tr>\n",
       "      <th>count</th>\n",
       "      <td>98171.000000</td>\n",
       "      <td>98171.000000</td>\n",
       "      <td>98171.000000</td>\n",
       "      <td>9.817100e+04</td>\n",
       "      <td>98171.000000</td>\n",
       "      <td>98171.000000</td>\n",
       "      <td>98171.000000</td>\n",
       "      <td>98171.000000</td>\n",
       "      <td>29451.000000</td>\n",
       "      <td>98171.000000</td>\n",
       "    </tr>\n",
       "    <tr>\n",
       "      <th>mean</th>\n",
       "      <td>0.177517</td>\n",
       "      <td>0.316947</td>\n",
       "      <td>2.389423</td>\n",
       "      <td>7.874292e+03</td>\n",
       "      <td>0.822483</td>\n",
       "      <td>0.932322</td>\n",
       "      <td>21.291708</td>\n",
       "      <td>76.894881</td>\n",
       "      <td>142.898746</td>\n",
       "      <td>0.299997</td>\n",
       "    </tr>\n",
       "    <tr>\n",
       "      <th>std</th>\n",
       "      <td>0.382107</td>\n",
       "      <td>0.465289</td>\n",
       "      <td>0.868954</td>\n",
       "      <td>1.050427e+06</td>\n",
       "      <td>0.382107</td>\n",
       "      <td>0.251194</td>\n",
       "      <td>6.186898</td>\n",
       "      <td>10.240142</td>\n",
       "      <td>656.880713</td>\n",
       "      <td>0.458259</td>\n",
       "    </tr>\n",
       "    <tr>\n",
       "      <th>min</th>\n",
       "      <td>0.000000</td>\n",
       "      <td>0.000000</td>\n",
       "      <td>1.000000</td>\n",
       "      <td>1.000000e+00</td>\n",
       "      <td>0.000000</td>\n",
       "      <td>0.000000</td>\n",
       "      <td>-38.391261</td>\n",
       "      <td>-121.761248</td>\n",
       "      <td>0.250000</td>\n",
       "      <td>0.000000</td>\n",
       "    </tr>\n",
       "    <tr>\n",
       "      <th>25%</th>\n",
       "      <td>0.000000</td>\n",
       "      <td>0.000000</td>\n",
       "      <td>2.000000</td>\n",
       "      <td>9.000277e+02</td>\n",
       "      <td>1.000000</td>\n",
       "      <td>1.000000</td>\n",
       "      <td>18.452663</td>\n",
       "      <td>73.798100</td>\n",
       "      <td>38.000000</td>\n",
       "      <td>0.000000</td>\n",
       "    </tr>\n",
       "    <tr>\n",
       "      <th>50%</th>\n",
       "      <td>0.000000</td>\n",
       "      <td>0.000000</td>\n",
       "      <td>2.000000</td>\n",
       "      <td>1.175007e+03</td>\n",
       "      <td>1.000000</td>\n",
       "      <td>1.000000</td>\n",
       "      <td>20.904426</td>\n",
       "      <td>77.324966</td>\n",
       "      <td>62.000000</td>\n",
       "      <td>0.000000</td>\n",
       "    </tr>\n",
       "    <tr>\n",
       "      <th>75%</th>\n",
       "      <td>0.000000</td>\n",
       "      <td>1.000000</td>\n",
       "      <td>3.000000</td>\n",
       "      <td>1.550388e+03</td>\n",
       "      <td>1.000000</td>\n",
       "      <td>1.000000</td>\n",
       "      <td>26.893640</td>\n",
       "      <td>77.968485</td>\n",
       "      <td>100.000000</td>\n",
       "      <td>1.000000</td>\n",
       "    </tr>\n",
       "    <tr>\n",
       "      <th>max</th>\n",
       "      <td>1.000000</td>\n",
       "      <td>1.000000</td>\n",
       "      <td>31.000000</td>\n",
       "      <td>2.545455e+08</td>\n",
       "      <td>1.000000</td>\n",
       "      <td>1.000000</td>\n",
       "      <td>65.183330</td>\n",
       "      <td>175.278040</td>\n",
       "      <td>30000.000000</td>\n",
       "      <td>1.000000</td>\n",
       "    </tr>\n",
       "  </tbody>\n",
       "</table>\n",
       "</div>"
      ],
      "text/plain": [
       "       UNDER_CONSTRUCTION          RERA       BHK_NO.     SQUARE_FT  \\\n",
       "count        98171.000000  98171.000000  98171.000000  9.817100e+04   \n",
       "mean             0.177517      0.316947      2.389423  7.874292e+03   \n",
       "std              0.382107      0.465289      0.868954  1.050427e+06   \n",
       "min              0.000000      0.000000      1.000000  1.000000e+00   \n",
       "25%              0.000000      0.000000      2.000000  9.000277e+02   \n",
       "50%              0.000000      0.000000      2.000000  1.175007e+03   \n",
       "75%              0.000000      1.000000      3.000000  1.550388e+03   \n",
       "max              1.000000      1.000000     31.000000  2.545455e+08   \n",
       "\n",
       "       READY_TO_MOVE        RESALE     LONGITUDE      LATITUDE  \\\n",
       "count   98171.000000  98171.000000  98171.000000  98171.000000   \n",
       "mean        0.822483      0.932322     21.291708     76.894881   \n",
       "std         0.382107      0.251194      6.186898     10.240142   \n",
       "min         0.000000      0.000000    -38.391261   -121.761248   \n",
       "25%         1.000000      1.000000     18.452663     73.798100   \n",
       "50%         1.000000      1.000000     20.904426     77.324966   \n",
       "75%         1.000000      1.000000     26.893640     77.968485   \n",
       "max         1.000000      1.000000     65.183330    175.278040   \n",
       "\n",
       "       TARGET(PRICE_IN_LACS)      is_train  \n",
       "count           29451.000000  98171.000000  \n",
       "mean              142.898746      0.299997  \n",
       "std               656.880713      0.458259  \n",
       "min                 0.250000      0.000000  \n",
       "25%                38.000000      0.000000  \n",
       "50%                62.000000      0.000000  \n",
       "75%               100.000000      1.000000  \n",
       "max             30000.000000      1.000000  "
      ]
     },
     "execution_count": 849,
     "metadata": {},
     "output_type": "execute_result"
    }
   ],
   "source": [
    "data.describe()"
   ]
  },
  {
   "cell_type": "code",
   "execution_count": 850,
   "id": "63388372",
   "metadata": {},
   "outputs": [
    {
     "data": {
      "text/plain": [
       "POSTED_BY                    3\n",
       "UNDER_CONSTRUCTION           2\n",
       "RERA                         2\n",
       "BHK_NO.                     19\n",
       "BHK_OR_RK                    2\n",
       "SQUARE_FT                48733\n",
       "READY_TO_MOVE                2\n",
       "RESALE                       2\n",
       "ADDRESS                  13322\n",
       "LONGITUDE                 6801\n",
       "LATITUDE                  6803\n",
       "TARGET(PRICE_IN_LACS)     1172\n",
       "is_train                     2\n",
       "dtype: int64"
      ]
     },
     "execution_count": 850,
     "metadata": {},
     "output_type": "execute_result"
    }
   ],
   "source": [
    "data.nunique()"
   ]
  },
  {
   "cell_type": "code",
   "execution_count": 851,
   "id": "63c71d7c",
   "metadata": {},
   "outputs": [
    {
     "data": {
      "text/plain": [
       "array(['Owner', 'Dealer', 'Builder'], dtype=object)"
      ]
     },
     "execution_count": 851,
     "metadata": {},
     "output_type": "execute_result"
    }
   ],
   "source": [
    "data.POSTED_BY.unique()"
   ]
  },
  {
   "cell_type": "markdown",
   "id": "73c925b5",
   "metadata": {},
   "source": [
    "# Exploratory Data Analysis"
   ]
  },
  {
   "cell_type": "markdown",
   "id": "38456f97",
   "metadata": {},
   "source": [
    "Let's begin some exploratory data analysis! We'll start by checking out missing data!"
   ]
  },
  {
   "cell_type": "code",
   "execution_count": 852,
   "id": "48561609",
   "metadata": {},
   "outputs": [
    {
     "data": {
      "text/plain": [
       "POSTED_BY                    0\n",
       "UNDER_CONSTRUCTION           0\n",
       "RERA                         0\n",
       "BHK_NO.                      0\n",
       "BHK_OR_RK                    0\n",
       "SQUARE_FT                    0\n",
       "READY_TO_MOVE                0\n",
       "RESALE                       0\n",
       "ADDRESS                      0\n",
       "LONGITUDE                    0\n",
       "LATITUDE                     0\n",
       "TARGET(PRICE_IN_LACS)    68720\n",
       "is_train                     0\n",
       "dtype: int64"
      ]
     },
     "execution_count": 852,
     "metadata": {},
     "output_type": "execute_result"
    }
   ],
   "source": [
    "data.isnull().sum()"
   ]
  },
  {
   "cell_type": "code",
   "execution_count": 853,
   "id": "a724c8e5",
   "metadata": {},
   "outputs": [
    {
     "data": {
      "text/plain": [
       "0.0"
      ]
     },
     "execution_count": 853,
     "metadata": {},
     "output_type": "execute_result"
    }
   ],
   "source": [
    "train['TARGET(PRICE_IN_LACS)'].isnull().mean()"
   ]
  },
  {
   "cell_type": "markdown",
   "id": "69848f2c",
   "metadata": {},
   "source": [
    "We can drop LONGITUDE and LATITUDE which does not affect TARGET(PRICE_IN_LACS)"
   ]
  },
  {
   "cell_type": "code",
   "execution_count": 854,
   "id": "b452c461",
   "metadata": {},
   "outputs": [],
   "source": [
    "data.drop(['LONGITUDE','LATITUDE'],axis = 1,inplace = True)"
   ]
  },
  {
   "cell_type": "markdown",
   "id": "f3f45229",
   "metadata": {},
   "source": [
    "### Extract city from address"
   ]
  },
  {
   "cell_type": "code",
   "execution_count": 855,
   "id": "59d1deae",
   "metadata": {},
   "outputs": [
    {
     "data": {
      "text/plain": [
       "Bangalore      14341\n",
       "Lalitpur       10063\n",
       "Pune            6591\n",
       "Mumbai          6539\n",
       "Kolkata         5850\n",
       "Noida           5826\n",
       "Maharashtra     5258\n",
       "Chennai         4136\n",
       "Ghaziabad       3604\n",
       "Jaipur          3229\n",
       "Chandigarh      2186\n",
       "Faridabad       2127\n",
       "Mohali          1882\n",
       "Vadodara        1853\n",
       "Surat           1449\n",
       "Name: ADDRESS, dtype: int64"
      ]
     },
     "execution_count": 855,
     "metadata": {},
     "output_type": "execute_result"
    }
   ],
   "source": [
    "data['ADDRESS'] = data['ADDRESS'].str.split(',').apply(lambda x: x[-1])\n",
    "data['ADDRESS'].value_counts().head(15)"
   ]
  },
  {
   "cell_type": "markdown",
   "id": "fa61aa85",
   "metadata": {},
   "source": [
    "Map all cities into tier-1, tier-2 and tier-3"
   ]
  },
  {
   "cell_type": "markdown",
   "id": "1f77202b",
   "metadata": {},
   "source": [
    "Reference https://en.wikipedia.org/wiki/Classification_of_Indian_cities"
   ]
  },
  {
   "cell_type": "code",
   "execution_count": 856,
   "id": "ee411d4c",
   "metadata": {},
   "outputs": [],
   "source": [
    "def map_city(city):\n",
    "    if city in ['Ahmedabad', 'Bangalore', 'Chennai', 'Delhi', 'Hyderabad', 'Kolkata', 'Mumbai', 'Pune', 'Maharashtra']:\n",
    "        return 'tier-1'\n",
    "    elif city in ['Agra', 'Ajmer', 'Aligarh', 'Amravati', 'Amritsar', 'Asansol', 'Aurangabad', 'Bareilly', \n",
    "                  'Belgaum', 'Bhavnagar', 'Bhiwandi', 'Bhopal', 'Bhubaneswar', 'Bikaner', 'Bilaspur', 'Bokaro Steel City', \n",
    "                  'Chandigarh', 'Coimbatore', 'Cuttack', 'Dehradun', 'Dhanbad', 'Bhilai', 'Durgapur', 'Dindigul', 'Erode', \n",
    "                  'Faridabad', 'Firozabad', 'Ghaziabad', 'Gorakhpur', 'Gulbarga', 'Guntur', 'Gwalior', 'Gurgaon', 'Guwahati', \n",
    "                  'Hamirpur', 'Hubli–Dharwad', 'Indore', 'Jabalpur', 'Jaipur', 'Jalandhar', 'Jammu', 'Jamnagar', 'Jamshedpur', \n",
    "                  'Jhansi', 'Jodhpur', 'Kakinada', 'Kannur', 'Kanpur', 'Karnal', 'Kochi', 'Kolhapur', 'Kollam', 'Kozhikode', \n",
    "                  'Kurnool', 'Ludhiana', 'Lucknow', 'Madurai', 'Malappuram', 'Mathura', 'Mangalore', 'Meerut', 'Moradabad', \n",
    "                  'Mysore', 'Nagpur', 'Nanded', 'Nashik', 'Nellore', 'Noida', 'Patna', 'Pondicherry', 'Purulia', 'Prayagraj', \n",
    "                  'Raipur', 'Rajkot', 'Rajahmundry', 'Ranchi', 'Rourkela', 'Ratlam', 'Salem', 'Sangli', 'Shimla', 'Siliguri', \n",
    "                  'Solapur', 'Srinagar', 'Surat', 'Thanjavur', 'Thiruvananthapuram', 'Thrissur', 'Tiruchirappalli', 'Tirunelveli', \n",
    "                  'Tiruvannamalai', 'Ujjain', 'Bijapur', 'Vadodara', 'Varanasi', 'Vasai-Virar City', 'Vijayawada', 'Visakhapatnam', \n",
    "                  'Vellore', 'Warangal']:\n",
    "        return 'tier-2'\n",
    "    else:\n",
    "        return 'tier-3'\n",
    "data['CITY_TIER'] = data['ADDRESS'].apply(map_city)"
   ]
  },
  {
   "cell_type": "code",
   "execution_count": 857,
   "id": "579afdb4",
   "metadata": {},
   "outputs": [
    {
     "data": {
      "text/html": [
       "<div>\n",
       "<style scoped>\n",
       "    .dataframe tbody tr th:only-of-type {\n",
       "        vertical-align: middle;\n",
       "    }\n",
       "\n",
       "    .dataframe tbody tr th {\n",
       "        vertical-align: top;\n",
       "    }\n",
       "\n",
       "    .dataframe thead th {\n",
       "        text-align: right;\n",
       "    }\n",
       "</style>\n",
       "<table border=\"1\" class=\"dataframe\">\n",
       "  <thead>\n",
       "    <tr style=\"text-align: right;\">\n",
       "      <th></th>\n",
       "      <th>POSTED_BY</th>\n",
       "      <th>UNDER_CONSTRUCTION</th>\n",
       "      <th>RERA</th>\n",
       "      <th>BHK_NO.</th>\n",
       "      <th>BHK_OR_RK</th>\n",
       "      <th>SQUARE_FT</th>\n",
       "      <th>READY_TO_MOVE</th>\n",
       "      <th>RESALE</th>\n",
       "      <th>ADDRESS</th>\n",
       "      <th>TARGET(PRICE_IN_LACS)</th>\n",
       "      <th>is_train</th>\n",
       "      <th>CITY_TIER</th>\n",
       "    </tr>\n",
       "  </thead>\n",
       "  <tbody>\n",
       "    <tr>\n",
       "      <th>0</th>\n",
       "      <td>Owner</td>\n",
       "      <td>0</td>\n",
       "      <td>0</td>\n",
       "      <td>2</td>\n",
       "      <td>BHK</td>\n",
       "      <td>1300.236407</td>\n",
       "      <td>1</td>\n",
       "      <td>1</td>\n",
       "      <td>Bangalore</td>\n",
       "      <td>55.0</td>\n",
       "      <td>1</td>\n",
       "      <td>tier-1</td>\n",
       "    </tr>\n",
       "    <tr>\n",
       "      <th>1</th>\n",
       "      <td>Dealer</td>\n",
       "      <td>0</td>\n",
       "      <td>0</td>\n",
       "      <td>2</td>\n",
       "      <td>BHK</td>\n",
       "      <td>1275.000000</td>\n",
       "      <td>1</td>\n",
       "      <td>1</td>\n",
       "      <td>Mysore</td>\n",
       "      <td>51.0</td>\n",
       "      <td>1</td>\n",
       "      <td>tier-2</td>\n",
       "    </tr>\n",
       "    <tr>\n",
       "      <th>2</th>\n",
       "      <td>Owner</td>\n",
       "      <td>0</td>\n",
       "      <td>0</td>\n",
       "      <td>2</td>\n",
       "      <td>BHK</td>\n",
       "      <td>933.159722</td>\n",
       "      <td>1</td>\n",
       "      <td>1</td>\n",
       "      <td>Bangalore</td>\n",
       "      <td>43.0</td>\n",
       "      <td>1</td>\n",
       "      <td>tier-1</td>\n",
       "    </tr>\n",
       "    <tr>\n",
       "      <th>3</th>\n",
       "      <td>Owner</td>\n",
       "      <td>0</td>\n",
       "      <td>1</td>\n",
       "      <td>2</td>\n",
       "      <td>BHK</td>\n",
       "      <td>929.921143</td>\n",
       "      <td>1</td>\n",
       "      <td>1</td>\n",
       "      <td>Ghaziabad</td>\n",
       "      <td>62.5</td>\n",
       "      <td>1</td>\n",
       "      <td>tier-2</td>\n",
       "    </tr>\n",
       "    <tr>\n",
       "      <th>4</th>\n",
       "      <td>Dealer</td>\n",
       "      <td>1</td>\n",
       "      <td>0</td>\n",
       "      <td>2</td>\n",
       "      <td>BHK</td>\n",
       "      <td>999.009247</td>\n",
       "      <td>0</td>\n",
       "      <td>1</td>\n",
       "      <td>Kolkata</td>\n",
       "      <td>60.5</td>\n",
       "      <td>1</td>\n",
       "      <td>tier-1</td>\n",
       "    </tr>\n",
       "  </tbody>\n",
       "</table>\n",
       "</div>"
      ],
      "text/plain": [
       "  POSTED_BY  UNDER_CONSTRUCTION  RERA  BHK_NO. BHK_OR_RK    SQUARE_FT  \\\n",
       "0     Owner                   0     0        2       BHK  1300.236407   \n",
       "1    Dealer                   0     0        2       BHK  1275.000000   \n",
       "2     Owner                   0     0        2       BHK   933.159722   \n",
       "3     Owner                   0     1        2       BHK   929.921143   \n",
       "4    Dealer                   1     0        2       BHK   999.009247   \n",
       "\n",
       "   READY_TO_MOVE  RESALE    ADDRESS  TARGET(PRICE_IN_LACS)  is_train CITY_TIER  \n",
       "0              1       1  Bangalore                   55.0         1    tier-1  \n",
       "1              1       1     Mysore                   51.0         1    tier-2  \n",
       "2              1       1  Bangalore                   43.0         1    tier-1  \n",
       "3              1       1  Ghaziabad                   62.5         1    tier-2  \n",
       "4              0       1    Kolkata                   60.5         1    tier-1  "
      ]
     },
     "execution_count": 857,
     "metadata": {},
     "output_type": "execute_result"
    }
   ],
   "source": [
    "data.head()"
   ]
  },
  {
   "cell_type": "code",
   "execution_count": 858,
   "id": "48e75f8f",
   "metadata": {},
   "outputs": [],
   "source": [
    "categorical_features = ['POSTED_BY','BHK_OR_RK','ADDRESS','CITY_TIER']\n",
    "numerical_features = ['UNDER_CONSTRUCTION','RERA','BHK_NO.','SQUARE_FT', 'READY_TO_MOVE', 'RESALE']"
   ]
  },
  {
   "cell_type": "markdown",
   "id": "ee6f6014",
   "metadata": {},
   "source": [
    "# Checking for Outliers in Numerical Features"
   ]
  },
  {
   "cell_type": "code",
   "execution_count": 859,
   "id": "40a90b05",
   "metadata": {},
   "outputs": [
    {
     "data": {
      "text/plain": [
       "UNDER_CONSTRUCTION     True\n",
       "RERA                  False\n",
       "BHK_NO.                True\n",
       "SQUARE_FT              True\n",
       "READY_TO_MOVE          True\n",
       "RESALE                 True\n",
       "dtype: bool"
      ]
     },
     "execution_count": 859,
     "metadata": {},
     "output_type": "execute_result"
    }
   ],
   "source": [
    "numerical_features = ['UNDER_CONSTRUCTION','RERA','BHK_NO.','SQUARE_FT', 'READY_TO_MOVE', 'RESALE']\n",
    "data_num = data[numerical_features]\n",
    "data_num.describe()\n",
    "\n",
    "Q1 = data_num.quantile(0.25)\n",
    "Q3 = data_num.quantile(0.75)\n",
    "IQR = Q3 - Q1\n",
    "((data_num < (Q1 - 1.5 * IQR)) | (data_num > (Q3 + 1.5 * IQR))).any()"
   ]
  },
  {
   "cell_type": "markdown",
   "id": "49ce8e1f",
   "metadata": {},
   "source": [
    "There are outliers in numerical features detected with the IQR method."
   ]
  },
  {
   "cell_type": "markdown",
   "id": "a3bc8114",
   "metadata": {},
   "source": [
    "Continuous Data BHK_NO.,SQUARE_FT and TARGET(PRICE_IN_LACS)'])"
   ]
  },
  {
   "cell_type": "code",
   "execution_count": 860,
   "id": "ec2058c4",
   "metadata": {},
   "outputs": [
    {
     "data": {
      "text/plain": [
       "{'whiskers': [<matplotlib.lines.Line2D at 0x198116532b0>,\n",
       "  <matplotlib.lines.Line2D at 0x19811653640>],\n",
       " 'caps': [<matplotlib.lines.Line2D at 0x198116539d0>,\n",
       "  <matplotlib.lines.Line2D at 0x19811653d60>],\n",
       " 'boxes': [<matplotlib.lines.Line2D at 0x19811764ee0>],\n",
       " 'medians': [<matplotlib.lines.Line2D at 0x1982adc0130>],\n",
       " 'fliers': [<matplotlib.lines.Line2D at 0x1982adc04c0>],\n",
       " 'means': []}"
      ]
     },
     "execution_count": 860,
     "metadata": {},
     "output_type": "execute_result"
    },
    {
     "data": {
      "image/png": "[encoded data removed]",
      "text/plain": [
       "<Figure size 432x288 with 1 Axes>"
      ]
     },
     "metadata": {
      "needs_background": "light"
     },
     "output_type": "display_data"
    }
   ],
   "source": [
    "plt.boxplot(data['BHK_NO.'])"
   ]
  },
  {
   "cell_type": "code",
   "execution_count": 861,
   "id": "7da53c9c",
   "metadata": {},
   "outputs": [],
   "source": [
    "Q1 = data['BHK_NO.'].quantile(0.25)\n",
    "Q3 = data['BHK_NO.'].quantile(0.75)\n",
    "IQR = Q3 - Q1"
   ]
  },
  {
   "cell_type": "code",
   "execution_count": 862,
   "id": "25cd149d",
   "metadata": {},
   "outputs": [],
   "source": [
    "UE = Q3 + 1.5 * (IQR)\n",
    "LE = Q1 - 1.5 * (IQR)"
   ]
  },
  {
   "cell_type": "code",
   "execution_count": 863,
   "id": "4839b6d9",
   "metadata": {},
   "outputs": [
    {
     "name": "stderr",
     "output_type": "stream",
     "text": [
      "C:\\Users\\senth\\AppData\\Local\\Temp/ipykernel_15244/2566831775.py:1: SettingWithCopyWarning: \n",
      "A value is trying to be set on a copy of a slice from a DataFrame\n",
      "\n",
      "See the caveats in the documentation: https://pandas.pydata.org/pandas-docs/stable/user_guide/indexing.html#returning-a-view-versus-a-copy\n",
      "  data['BHK_NO.'][data['BHK_NO.']>UE]=UE\n",
      "C:\\Users\\senth\\AppData\\Local\\Temp/ipykernel_15244/2566831775.py:2: SettingWithCopyWarning: \n",
      "A value is trying to be set on a copy of a slice from a DataFrame\n",
      "\n",
      "See the caveats in the documentation: https://pandas.pydata.org/pandas-docs/stable/user_guide/indexing.html#returning-a-view-versus-a-copy\n",
      "  data['BHK_NO.'][data['BHK_NO.']<LE]=LE\n"
     ]
    }
   ],
   "source": [
    "data['BHK_NO.'][data['BHK_NO.']>UE]=UE\n",
    "data['BHK_NO.'][data['BHK_NO.']<LE]=LE"
   ]
  },
  {
   "cell_type": "code",
   "execution_count": 864,
   "id": "fc544ad3",
   "metadata": {},
   "outputs": [
    {
     "data": {
      "text/plain": [
       "{'whiskers': [<matplotlib.lines.Line2D at 0x19857753e20>,\n",
       "  <matplotlib.lines.Line2D at 0x1985773f1f0>],\n",
       " 'caps': [<matplotlib.lines.Line2D at 0x1985773f580>,\n",
       "  <matplotlib.lines.Line2D at 0x1985773f910>],\n",
       " 'boxes': [<matplotlib.lines.Line2D at 0x19857753a90>],\n",
       " 'medians': [<matplotlib.lines.Line2D at 0x1985773fca0>],\n",
       " 'fliers': [<matplotlib.lines.Line2D at 0x1981f420070>],\n",
       " 'means': []}"
      ]
     },
     "execution_count": 864,
     "metadata": {},
     "output_type": "execute_result"
    },
    {
     "data": {
      "image/png": "[encoded data removed]",
      "text/plain": [
       "<Figure size 432x288 with 1 Axes>"
      ]
     },
     "metadata": {
      "needs_background": "light"
     },
     "output_type": "display_data"
    }
   ],
   "source": [
    "plt.boxplot(data['BHK_NO.'])"
   ]
  },
  {
   "cell_type": "code",
   "execution_count": 865,
   "id": "b3373f17",
   "metadata": {},
   "outputs": [
    {
     "data": {
      "text/plain": [
       "{'whiskers': [<matplotlib.lines.Line2D at 0x1985a2ba550>,\n",
       "  <matplotlib.lines.Line2D at 0x1985a2ba8e0>],\n",
       " 'caps': [<matplotlib.lines.Line2D at 0x1985a2bac70>,\n",
       "  <matplotlib.lines.Line2D at 0x1985a2a3040>],\n",
       " 'boxes': [<matplotlib.lines.Line2D at 0x1985a2ba1c0>],\n",
       " 'medians': [<matplotlib.lines.Line2D at 0x1985a2a33d0>],\n",
       " 'fliers': [<matplotlib.lines.Line2D at 0x1985a2a3760>],\n",
       " 'means': []}"
      ]
     },
     "execution_count": 865,
     "metadata": {},
     "output_type": "execute_result"
    },
    {
     "data": {
      "image/png": "[encoded data removed]",
      "text/plain": [
       "<Figure size 432x288 with 1 Axes>"
      ]
     },
     "metadata": {
      "needs_background": "light"
     },
     "output_type": "display_data"
    }
   ],
   "source": [
    "plt.boxplot(data['SQUARE_FT'])"
   ]
  },
  {
   "cell_type": "code",
   "execution_count": 866,
   "id": "4efac0f6",
   "metadata": {},
   "outputs": [],
   "source": [
    "Q1 = data['SQUARE_FT'].quantile(0.25)\n",
    "Q3 = data['SQUARE_FT'].quantile(0.75)\n",
    "IQR = Q3 - Q1"
   ]
  },
  {
   "cell_type": "code",
   "execution_count": 867,
   "id": "6cf5b8b6",
   "metadata": {},
   "outputs": [],
   "source": [
    "UE = Q3 + 1.5 * (IQR)\n",
    "LE = Q1 - 1.5 * (IQR)"
   ]
  },
  {
   "cell_type": "code",
   "execution_count": 868,
   "id": "33d7c8fc",
   "metadata": {},
   "outputs": [
    {
     "name": "stderr",
     "output_type": "stream",
     "text": [
      "C:\\Users\\senth\\AppData\\Local\\Temp/ipykernel_15244/1657066256.py:1: SettingWithCopyWarning: \n",
      "A value is trying to be set on a copy of a slice from a DataFrame\n",
      "\n",
      "See the caveats in the documentation: https://pandas.pydata.org/pandas-docs/stable/user_guide/indexing.html#returning-a-view-versus-a-copy\n",
      "  data['SQUARE_FT'][data['SQUARE_FT']>UE]=UE\n",
      "C:\\Users\\senth\\AppData\\Local\\Temp/ipykernel_15244/1657066256.py:2: SettingWithCopyWarning: \n",
      "A value is trying to be set on a copy of a slice from a DataFrame\n",
      "\n",
      "See the caveats in the documentation: https://pandas.pydata.org/pandas-docs/stable/user_guide/indexing.html#returning-a-view-versus-a-copy\n",
      "  data['SQUARE_FT'][data['SQUARE_FT']<LE]=LE\n"
     ]
    }
   ],
   "source": [
    "data['SQUARE_FT'][data['SQUARE_FT']>UE]=UE\n",
    "data['SQUARE_FT'][data['SQUARE_FT']<LE]=LE"
   ]
  },
  {
   "cell_type": "code",
   "execution_count": 869,
   "id": "3924425a",
   "metadata": {},
   "outputs": [
    {
     "data": {
      "text/plain": [
       "{'whiskers': [<matplotlib.lines.Line2D at 0x19857902e80>,\n",
       "  <matplotlib.lines.Line2D at 0x1985ed81250>],\n",
       " 'caps': [<matplotlib.lines.Line2D at 0x1985ed815e0>,\n",
       "  <matplotlib.lines.Line2D at 0x1985ed81970>],\n",
       " 'boxes': [<matplotlib.lines.Line2D at 0x19857902af0>],\n",
       " 'medians': [<matplotlib.lines.Line2D at 0x1985ed81d00>],\n",
       " 'fliers': [<matplotlib.lines.Line2D at 0x1985ed6b0d0>],\n",
       " 'means': []}"
      ]
     },
     "execution_count": 869,
     "metadata": {},
     "output_type": "execute_result"
    },
    {
     "data": {
      "image/png": "[encoded data removed]",
      "text/plain": [
       "<Figure size 432x288 with 1 Axes>"
      ]
     },
     "metadata": {
      "needs_background": "light"
     },
     "output_type": "display_data"
    }
   ],
   "source": [
    "plt.boxplot(data['SQUARE_FT'])"
   ]
  },
  {
   "cell_type": "markdown",
   "id": "2390252c",
   "metadata": {},
   "source": [
    "# DATA VISUALIZATION"
   ]
  },
  {
   "cell_type": "markdown",
   "id": "b5af71fd",
   "metadata": {},
   "source": [
    "### UNDER_CONSTRUCTION Vs TARGET PRICE"
   ]
  },
  {
   "cell_type": "code",
   "execution_count": 870,
   "id": "2e68558c",
   "metadata": {},
   "outputs": [
    {
     "data": {
      "text/plain": [
       "<AxesSubplot:xlabel='UNDER_CONSTRUCTION', ylabel='TARGET(PRICE_IN_LACS)'>"
      ]
     },
     "execution_count": 870,
     "metadata": {},
     "output_type": "execute_result"
    },
    {
     "data": {
      "image/png": "[encoded data removed]",
      "text/plain": [
       "<Figure size 432x288 with 1 Axes>"
      ]
     },
     "metadata": {
      "needs_background": "light"
     },
     "output_type": "display_data"
    }
   ],
   "source": [
    "sns.barplot(x = data['UNDER_CONSTRUCTION'], y = data['TARGET(PRICE_IN_LACS)'], palette='Blues')"
   ]
  },
  {
   "cell_type": "markdown",
   "id": "4599793e",
   "metadata": {},
   "source": [
    "The House UNDER_CONSTRUCTION contribute Higher Prices"
   ]
  },
  {
   "cell_type": "markdown",
   "id": "a6a0e269",
   "metadata": {},
   "source": [
    "### RERA Vs TARGET PRICE"
   ]
  },
  {
   "cell_type": "code",
   "execution_count": 871,
   "id": "23e01385",
   "metadata": {},
   "outputs": [
    {
     "data": {
      "text/plain": [
       "<AxesSubplot:xlabel='RERA', ylabel='TARGET(PRICE_IN_LACS)'>"
      ]
     },
     "execution_count": 871,
     "metadata": {},
     "output_type": "execute_result"
    },
    {
     "data": {
      "image/png": "[encoded data removed]",
      "text/plain": [
       "<Figure size 432x288 with 1 Axes>"
      ]
     },
     "metadata": {
      "needs_background": "light"
     },
     "output_type": "display_data"
    }
   ],
   "source": [
    "sns.barplot(x = data['RERA'], y = data['TARGET(PRICE_IN_LACS)'],palette='Blues')"
   ]
  },
  {
   "cell_type": "markdown",
   "id": "a826deb9",
   "metadata": {},
   "source": [
    "It is clear that from the above barplot the price of house with RERA approval is valued higher price than the house without RERA approval"
   ]
  },
  {
   "cell_type": "markdown",
   "id": "7126b59f",
   "metadata": {},
   "source": [
    "### RESALE Vs TARGET PRICE "
   ]
  },
  {
   "cell_type": "code",
   "execution_count": 872,
   "id": "994f194c",
   "metadata": {},
   "outputs": [
    {
     "data": {
      "text/plain": [
       "<AxesSubplot:xlabel='RESALE', ylabel='TARGET(PRICE_IN_LACS)'>"
      ]
     },
     "execution_count": 872,
     "metadata": {},
     "output_type": "execute_result"
    },
    {
     "data": {
      "image/png": "[encoded data removed]",
      "text/plain": [
       "<Figure size 432x288 with 1 Axes>"
      ]
     },
     "metadata": {
      "needs_background": "light"
     },
     "output_type": "display_data"
    }
   ],
   "source": [
    "sns.barplot(x = data['RESALE'], y = data['TARGET(PRICE_IN_LACS)'],palette='Blues')"
   ]
  },
  {
   "cell_type": "markdown",
   "id": "9b578d48",
   "metadata": {},
   "source": [
    "It's clear from the above Barplot that the price of a brand new house is higher than the price of the house which is resold"
   ]
  },
  {
   "cell_type": "markdown",
   "id": "e076ec74",
   "metadata": {},
   "source": [
    "### BHK_OR_RK Vs TARGET PRICE"
   ]
  },
  {
   "cell_type": "code",
   "execution_count": 873,
   "id": "1df6a6de",
   "metadata": {},
   "outputs": [
    {
     "data": {
      "text/plain": [
       "<AxesSubplot:xlabel='BHK_OR_RK', ylabel='TARGET(PRICE_IN_LACS)'>"
      ]
     },
     "execution_count": 873,
     "metadata": {},
     "output_type": "execute_result"
    },
    {
     "data": {
      "image/png": "[encoded data removed]",
      "text/plain": [
       "<Figure size 432x288 with 1 Axes>"
      ]
     },
     "metadata": {
      "needs_background": "light"
     },
     "output_type": "display_data"
    }
   ],
   "source": [
    "sns.barplot(x = data['BHK_OR_RK'], y = data['TARGET(PRICE_IN_LACS)'],palette='Blues')"
   ]
  },
  {
   "cell_type": "markdown",
   "id": "afaa780a",
   "metadata": {},
   "source": [
    "The price of house with BHK(Bedroom, Hall, Kitchen) is costlier than a house with only RK(Room, Kichen)."
   ]
  },
  {
   "cell_type": "markdown",
   "id": "fa2e5da6",
   "metadata": {},
   "source": [
    "### POSTED_BY Vs TARGET PRICE "
   ]
  },
  {
   "cell_type": "code",
   "execution_count": 874,
   "id": "78a033d3",
   "metadata": {},
   "outputs": [
    {
     "data": {
      "text/plain": [
       "<AxesSubplot:xlabel='POSTED_BY', ylabel='TARGET(PRICE_IN_LACS)'>"
      ]
     },
     "execution_count": 874,
     "metadata": {},
     "output_type": "execute_result"
    },
    {
     "data": {
      "image/png": "[encoded data removed]",
      "text/plain": [
       "<Figure size 432x288 with 1 Axes>"
      ]
     },
     "metadata": {
      "needs_background": "light"
     },
     "output_type": "display_data"
    }
   ],
   "source": [
    "sns.barplot(x = data['POSTED_BY'], y = data['TARGET(PRICE_IN_LACS)'],palette='Blues')"
   ]
  },
  {
   "cell_type": "markdown",
   "id": "ccfd5d4e",
   "metadata": {},
   "source": [
    "The houses posted by Builder gets sold for higher price, followed by dealer and Owner"
   ]
  },
  {
   "cell_type": "markdown",
   "id": "d0f0908e",
   "metadata": {},
   "source": [
    "#####  Dropping TARGET(PRICE_IN_LACS) column as it is not present in the test "
   ]
  },
  {
   "cell_type": "code",
   "execution_count": 875,
   "id": "9fdbd65e",
   "metadata": {},
   "outputs": [],
   "source": [
    "data = data.drop(['TARGET(PRICE_IN_LACS)'],axis = 1)"
   ]
  },
  {
   "cell_type": "markdown",
   "id": "3be30b1e",
   "metadata": {},
   "source": [
    "# Data Preparation"
   ]
  },
  {
   "cell_type": "markdown",
   "id": "9602ddd7",
   "metadata": {},
   "source": [
    "# Converting Categorical Features"
   ]
  },
  {
   "cell_type": "markdown",
   "id": "06096e74",
   "metadata": {},
   "source": [
    "Converting the categorical data to numerical values"
   ]
  },
  {
   "cell_type": "code",
   "execution_count": 876,
   "id": "3806b6c7",
   "metadata": {},
   "outputs": [],
   "source": [
    "from sklearn import preprocessing\n",
    "label_encoder = preprocessing.LabelEncoder()"
   ]
  },
  {
   "cell_type": "code",
   "execution_count": 877,
   "id": "3d57c30f",
   "metadata": {},
   "outputs": [],
   "source": [
    "data.ADDRESS = label_encoder.fit_transform(data.ADDRESS)"
   ]
  },
  {
   "cell_type": "code",
   "execution_count": 878,
   "id": "ff65dc76",
   "metadata": {},
   "outputs": [
    {
     "data": {
      "text/plain": [
       "array([ 24, 196,  97, 166, 163, 126, 190,  60, 273, 209, 239,  49, 311,\n",
       "       234, 194, 201,  73,  46,  89, 174, 180, 299, 307, 301, 185,  19,\n",
       "       213, 305,  33,  48, 176, 151,  94, 231,   1, 249, 106, 297, 123,\n",
       "       141,  64, 300, 217, 283, 302, 107,  10,  14, 294, 266, 241, 309,\n",
       "       291, 265, 179,  58, 267, 108, 243, 280,   7,  35, 257,  77, 175,\n",
       "        84, 221, 279,  83,  98, 135, 117, 124, 120, 192, 121, 156, 228,\n",
       "        53, 251, 188, 170, 129,  12, 227, 177,   8, 169, 220, 165,  86,\n",
       "        42,  41,  18, 137, 186,  15,  85,  43,  72, 104, 130, 296, 105,\n",
       "       206, 115, 274, 118, 171,  75, 205,  22, 207,  80, 293,  67, 114,\n",
       "       202, 134, 148, 145, 152, 125, 223, 195, 263, 139,  93, 143, 191,\n",
       "         2, 131,  47, 214, 150, 155,   4, 140,  96,   9,   3, 109,  78,\n",
       "       233, 167, 211,  39,  27, 245, 219,   6,  87, 259, 285, 210, 208,\n",
       "       235,  69, 270, 278,  70, 144, 147,   0, 310, 111, 212,  38,  28,\n",
       "       255,  59,  55, 138,  45, 172,  13, 112, 261, 113, 298, 290, 153,\n",
       "       187,  92, 254,  99, 162, 281, 282, 189, 252,  26, 269, 256, 218,\n",
       "       116, 314,  23,  61,  29, 304, 287, 149,  52, 253, 232, 200, 204,\n",
       "       258, 197, 103, 216,  37, 173,  81, 262, 178, 225,  25, 133, 122,\n",
       "       168, 240, 272,  17, 198, 158,  68, 199, 271,  16,  21,  71, 242,\n",
       "       119,  32,  91, 128, 110,  62,  88, 181,  36, 284, 229, 308, 244,\n",
       "        66, 238, 264, 100, 303,  40,  50, 277, 312, 295,  44, 161, 222,\n",
       "        56, 159,  34, 193, 184, 230,  11, 250, 182, 101, 142, 132,  63,\n",
       "        31,  54,  51, 276, 164, 183, 289, 288,  30, 154, 248,  20,  74,\n",
       "       160,  90,  57, 226, 286, 313, 102,  95,   5, 275, 146, 246, 127,\n",
       "       247, 215, 157, 237, 236,  76, 260,  65,  79, 224, 203, 306, 292,\n",
       "        82, 136, 268])"
      ]
     },
     "execution_count": 878,
     "metadata": {},
     "output_type": "execute_result"
    }
   ],
   "source": [
    "data.ADDRESS.unique()"
   ]
  },
  {
   "cell_type": "code",
   "execution_count": 879,
   "id": "a0fddf47",
   "metadata": {},
   "outputs": [],
   "source": [
    "data['POSTED_BY'] = label_encoder.fit_transform(data['POSTED_BY'])"
   ]
  },
  {
   "cell_type": "code",
   "execution_count": 880,
   "id": "54dcadd2",
   "metadata": {},
   "outputs": [],
   "source": [
    "data['BHK_OR_RK'] = label_encoder.fit_transform(data['BHK_OR_RK'])"
   ]
  },
  {
   "cell_type": "code",
   "execution_count": 881,
   "id": "d1f90eee",
   "metadata": {},
   "outputs": [],
   "source": [
    "data.CITY_TIER = label_encoder.fit_transform(data.CITY_TIER)"
   ]
  },
  {
   "cell_type": "code",
   "execution_count": 882,
   "id": "340d4c1a",
   "metadata": {},
   "outputs": [
    {
     "data": {
      "text/html": [
       "<div>\n",
       "<style scoped>\n",
       "    .dataframe tbody tr th:only-of-type {\n",
       "        vertical-align: middle;\n",
       "    }\n",
       "\n",
       "    .dataframe tbody tr th {\n",
       "        vertical-align: top;\n",
       "    }\n",
       "\n",
       "    .dataframe thead th {\n",
       "        text-align: right;\n",
       "    }\n",
       "</style>\n",
       "<table border=\"1\" class=\"dataframe\">\n",
       "  <thead>\n",
       "    <tr style=\"text-align: right;\">\n",
       "      <th></th>\n",
       "      <th>POSTED_BY</th>\n",
       "      <th>UNDER_CONSTRUCTION</th>\n",
       "      <th>RERA</th>\n",
       "      <th>BHK_NO.</th>\n",
       "      <th>BHK_OR_RK</th>\n",
       "      <th>SQUARE_FT</th>\n",
       "      <th>READY_TO_MOVE</th>\n",
       "      <th>RESALE</th>\n",
       "      <th>ADDRESS</th>\n",
       "      <th>is_train</th>\n",
       "      <th>CITY_TIER</th>\n",
       "    </tr>\n",
       "  </thead>\n",
       "  <tbody>\n",
       "    <tr>\n",
       "      <th>0</th>\n",
       "      <td>2</td>\n",
       "      <td>0</td>\n",
       "      <td>0</td>\n",
       "      <td>2.0</td>\n",
       "      <td>0</td>\n",
       "      <td>1300.236407</td>\n",
       "      <td>1</td>\n",
       "      <td>1</td>\n",
       "      <td>24</td>\n",
       "      <td>1</td>\n",
       "      <td>0</td>\n",
       "    </tr>\n",
       "    <tr>\n",
       "      <th>1</th>\n",
       "      <td>1</td>\n",
       "      <td>0</td>\n",
       "      <td>0</td>\n",
       "      <td>2.0</td>\n",
       "      <td>0</td>\n",
       "      <td>1275.000000</td>\n",
       "      <td>1</td>\n",
       "      <td>1</td>\n",
       "      <td>196</td>\n",
       "      <td>1</td>\n",
       "      <td>1</td>\n",
       "    </tr>\n",
       "    <tr>\n",
       "      <th>2</th>\n",
       "      <td>2</td>\n",
       "      <td>0</td>\n",
       "      <td>0</td>\n",
       "      <td>2.0</td>\n",
       "      <td>0</td>\n",
       "      <td>933.159722</td>\n",
       "      <td>1</td>\n",
       "      <td>1</td>\n",
       "      <td>24</td>\n",
       "      <td>1</td>\n",
       "      <td>0</td>\n",
       "    </tr>\n",
       "    <tr>\n",
       "      <th>3</th>\n",
       "      <td>2</td>\n",
       "      <td>0</td>\n",
       "      <td>1</td>\n",
       "      <td>2.0</td>\n",
       "      <td>0</td>\n",
       "      <td>929.921143</td>\n",
       "      <td>1</td>\n",
       "      <td>1</td>\n",
       "      <td>97</td>\n",
       "      <td>1</td>\n",
       "      <td>1</td>\n",
       "    </tr>\n",
       "    <tr>\n",
       "      <th>4</th>\n",
       "      <td>1</td>\n",
       "      <td>1</td>\n",
       "      <td>0</td>\n",
       "      <td>2.0</td>\n",
       "      <td>0</td>\n",
       "      <td>999.009247</td>\n",
       "      <td>0</td>\n",
       "      <td>1</td>\n",
       "      <td>166</td>\n",
       "      <td>1</td>\n",
       "      <td>0</td>\n",
       "    </tr>\n",
       "  </tbody>\n",
       "</table>\n",
       "</div>"
      ],
      "text/plain": [
       "   POSTED_BY  UNDER_CONSTRUCTION  RERA  BHK_NO.  BHK_OR_RK    SQUARE_FT  \\\n",
       "0          2                   0     0      2.0          0  1300.236407   \n",
       "1          1                   0     0      2.0          0  1275.000000   \n",
       "2          2                   0     0      2.0          0   933.159722   \n",
       "3          2                   0     1      2.0          0   929.921143   \n",
       "4          1                   1     0      2.0          0   999.009247   \n",
       "\n",
       "   READY_TO_MOVE  RESALE  ADDRESS  is_train  CITY_TIER  \n",
       "0              1       1       24         1          0  \n",
       "1              1       1      196         1          1  \n",
       "2              1       1       24         1          0  \n",
       "3              1       1       97         1          1  \n",
       "4              0       1      166         1          0  "
      ]
     },
     "execution_count": 882,
     "metadata": {},
     "output_type": "execute_result"
    }
   ],
   "source": [
    "data.head()"
   ]
  },
  {
   "cell_type": "markdown",
   "id": "7f4939b0",
   "metadata": {},
   "source": [
    "We'll need to convert categorical features to dummy variables using pandas! Otherwise our machine learning algorithm won't able to take those features as inputs directly"
   ]
  },
  {
   "cell_type": "code",
   "execution_count": 883,
   "id": "c067c453",
   "metadata": {},
   "outputs": [
    {
     "data": {
      "text/html": [
       "<div>\n",
       "<style scoped>\n",
       "    .dataframe tbody tr th:only-of-type {\n",
       "        vertical-align: middle;\n",
       "    }\n",
       "\n",
       "    .dataframe tbody tr th {\n",
       "        vertical-align: top;\n",
       "    }\n",
       "\n",
       "    .dataframe thead th {\n",
       "        text-align: right;\n",
       "    }\n",
       "</style>\n",
       "<table border=\"1\" class=\"dataframe\">\n",
       "  <thead>\n",
       "    <tr style=\"text-align: right;\">\n",
       "      <th></th>\n",
       "      <th>POSTED_BY</th>\n",
       "      <th>UNDER_CONSTRUCTION</th>\n",
       "      <th>RERA</th>\n",
       "      <th>BHK_NO.</th>\n",
       "      <th>BHK_OR_RK</th>\n",
       "      <th>SQUARE_FT</th>\n",
       "      <th>READY_TO_MOVE</th>\n",
       "      <th>RESALE</th>\n",
       "      <th>ADDRESS</th>\n",
       "      <th>is_train</th>\n",
       "      <th>CITY_TIER</th>\n",
       "    </tr>\n",
       "  </thead>\n",
       "  <tbody>\n",
       "    <tr>\n",
       "      <th>0</th>\n",
       "      <td>2</td>\n",
       "      <td>0</td>\n",
       "      <td>0</td>\n",
       "      <td>2.0</td>\n",
       "      <td>0</td>\n",
       "      <td>1300.236407</td>\n",
       "      <td>1</td>\n",
       "      <td>1</td>\n",
       "      <td>24</td>\n",
       "      <td>1</td>\n",
       "      <td>0</td>\n",
       "    </tr>\n",
       "    <tr>\n",
       "      <th>1</th>\n",
       "      <td>1</td>\n",
       "      <td>0</td>\n",
       "      <td>0</td>\n",
       "      <td>2.0</td>\n",
       "      <td>0</td>\n",
       "      <td>1275.000000</td>\n",
       "      <td>1</td>\n",
       "      <td>1</td>\n",
       "      <td>196</td>\n",
       "      <td>1</td>\n",
       "      <td>1</td>\n",
       "    </tr>\n",
       "    <tr>\n",
       "      <th>2</th>\n",
       "      <td>2</td>\n",
       "      <td>0</td>\n",
       "      <td>0</td>\n",
       "      <td>2.0</td>\n",
       "      <td>0</td>\n",
       "      <td>933.159722</td>\n",
       "      <td>1</td>\n",
       "      <td>1</td>\n",
       "      <td>24</td>\n",
       "      <td>1</td>\n",
       "      <td>0</td>\n",
       "    </tr>\n",
       "    <tr>\n",
       "      <th>3</th>\n",
       "      <td>2</td>\n",
       "      <td>0</td>\n",
       "      <td>1</td>\n",
       "      <td>2.0</td>\n",
       "      <td>0</td>\n",
       "      <td>929.921143</td>\n",
       "      <td>1</td>\n",
       "      <td>1</td>\n",
       "      <td>97</td>\n",
       "      <td>1</td>\n",
       "      <td>1</td>\n",
       "    </tr>\n",
       "    <tr>\n",
       "      <th>4</th>\n",
       "      <td>1</td>\n",
       "      <td>1</td>\n",
       "      <td>0</td>\n",
       "      <td>2.0</td>\n",
       "      <td>0</td>\n",
       "      <td>999.009247</td>\n",
       "      <td>0</td>\n",
       "      <td>1</td>\n",
       "      <td>166</td>\n",
       "      <td>1</td>\n",
       "      <td>0</td>\n",
       "    </tr>\n",
       "    <tr>\n",
       "      <th>...</th>\n",
       "      <td>...</td>\n",
       "      <td>...</td>\n",
       "      <td>...</td>\n",
       "      <td>...</td>\n",
       "      <td>...</td>\n",
       "      <td>...</td>\n",
       "      <td>...</td>\n",
       "      <td>...</td>\n",
       "      <td>...</td>\n",
       "      <td>...</td>\n",
       "      <td>...</td>\n",
       "    </tr>\n",
       "    <tr>\n",
       "      <th>98166</th>\n",
       "      <td>1</td>\n",
       "      <td>0</td>\n",
       "      <td>1</td>\n",
       "      <td>2.0</td>\n",
       "      <td>0</td>\n",
       "      <td>856.555505</td>\n",
       "      <td>1</td>\n",
       "      <td>1</td>\n",
       "      <td>180</td>\n",
       "      <td>0</td>\n",
       "      <td>0</td>\n",
       "    </tr>\n",
       "    <tr>\n",
       "      <th>98167</th>\n",
       "      <td>1</td>\n",
       "      <td>0</td>\n",
       "      <td>1</td>\n",
       "      <td>3.0</td>\n",
       "      <td>0</td>\n",
       "      <td>2304.147465</td>\n",
       "      <td>1</td>\n",
       "      <td>1</td>\n",
       "      <td>190</td>\n",
       "      <td>0</td>\n",
       "      <td>2</td>\n",
       "    </tr>\n",
       "    <tr>\n",
       "      <th>98168</th>\n",
       "      <td>1</td>\n",
       "      <td>1</td>\n",
       "      <td>1</td>\n",
       "      <td>1.0</td>\n",
       "      <td>0</td>\n",
       "      <td>2525.927453</td>\n",
       "      <td>0</td>\n",
       "      <td>0</td>\n",
       "      <td>180</td>\n",
       "      <td>0</td>\n",
       "      <td>0</td>\n",
       "    </tr>\n",
       "    <tr>\n",
       "      <th>98169</th>\n",
       "      <td>1</td>\n",
       "      <td>0</td>\n",
       "      <td>0</td>\n",
       "      <td>2.0</td>\n",
       "      <td>0</td>\n",
       "      <td>1173.708920</td>\n",
       "      <td>1</td>\n",
       "      <td>1</td>\n",
       "      <td>234</td>\n",
       "      <td>0</td>\n",
       "      <td>0</td>\n",
       "    </tr>\n",
       "    <tr>\n",
       "      <th>98170</th>\n",
       "      <td>1</td>\n",
       "      <td>0</td>\n",
       "      <td>0</td>\n",
       "      <td>3.0</td>\n",
       "      <td>0</td>\n",
       "      <td>2439.532944</td>\n",
       "      <td>1</td>\n",
       "      <td>1</td>\n",
       "      <td>194</td>\n",
       "      <td>0</td>\n",
       "      <td>0</td>\n",
       "    </tr>\n",
       "  </tbody>\n",
       "</table>\n",
       "<p>98171 rows × 11 columns</p>\n",
       "</div>"
      ],
      "text/plain": [
       "       POSTED_BY  UNDER_CONSTRUCTION  RERA  BHK_NO.  BHK_OR_RK    SQUARE_FT  \\\n",
       "0              2                   0     0      2.0          0  1300.236407   \n",
       "1              1                   0     0      2.0          0  1275.000000   \n",
       "2              2                   0     0      2.0          0   933.159722   \n",
       "3              2                   0     1      2.0          0   929.921143   \n",
       "4              1                   1     0      2.0          0   999.009247   \n",
       "...          ...                 ...   ...      ...        ...          ...   \n",
       "98166          1                   0     1      2.0          0   856.555505   \n",
       "98167          1                   0     1      3.0          0  2304.147465   \n",
       "98168          1                   1     1      1.0          0  2525.927453   \n",
       "98169          1                   0     0      2.0          0  1173.708920   \n",
       "98170          1                   0     0      3.0          0  2439.532944   \n",
       "\n",
       "       READY_TO_MOVE  RESALE  ADDRESS  is_train  CITY_TIER  \n",
       "0                  1       1       24         1          0  \n",
       "1                  1       1      196         1          1  \n",
       "2                  1       1       24         1          0  \n",
       "3                  1       1       97         1          1  \n",
       "4                  0       1      166         1          0  \n",
       "...              ...     ...      ...       ...        ...  \n",
       "98166              1       1      180         0          0  \n",
       "98167              1       1      190         0          2  \n",
       "98168              0       0      180         0          0  \n",
       "98169              1       1      234         0          0  \n",
       "98170              1       1      194         0          0  \n",
       "\n",
       "[98171 rows x 11 columns]"
      ]
     },
     "execution_count": 883,
     "metadata": {},
     "output_type": "execute_result"
    }
   ],
   "source": [
    "dummy = pd.get_dummies(data)\n",
    "dummy"
   ]
  },
  {
   "cell_type": "code",
   "execution_count": 884,
   "id": "2b4c96fd",
   "metadata": {},
   "outputs": [],
   "source": [
    "from sklearn.preprocessing import MinMaxScaler"
   ]
  },
  {
   "cell_type": "code",
   "execution_count": 885,
   "id": "34ea8d3c",
   "metadata": {},
   "outputs": [],
   "source": [
    "scaler = MinMaxScaler()\n",
    "model = scaler.fit(data)"
   ]
  },
  {
   "cell_type": "code",
   "execution_count": 886,
   "id": "0fc716f5",
   "metadata": {},
   "outputs": [],
   "source": [
    "scaled_data = model.transform(data)"
   ]
  },
  {
   "cell_type": "code",
   "execution_count": 887,
   "id": "d89db6e2",
   "metadata": {},
   "outputs": [],
   "source": [
    "scaled_data1=pd.DataFrame(scaled_data)"
   ]
  },
  {
   "cell_type": "code",
   "execution_count": 888,
   "id": "2175ecab",
   "metadata": {},
   "outputs": [
    {
     "data": {
      "text/html": [
       "<div>\n",
       "<style scoped>\n",
       "    .dataframe tbody tr th:only-of-type {\n",
       "        vertical-align: middle;\n",
       "    }\n",
       "\n",
       "    .dataframe tbody tr th {\n",
       "        vertical-align: top;\n",
       "    }\n",
       "\n",
       "    .dataframe thead th {\n",
       "        text-align: right;\n",
       "    }\n",
       "</style>\n",
       "<table border=\"1\" class=\"dataframe\">\n",
       "  <thead>\n",
       "    <tr style=\"text-align: right;\">\n",
       "      <th></th>\n",
       "      <th>0</th>\n",
       "      <th>1</th>\n",
       "      <th>2</th>\n",
       "      <th>3</th>\n",
       "      <th>4</th>\n",
       "      <th>5</th>\n",
       "      <th>6</th>\n",
       "      <th>7</th>\n",
       "      <th>8</th>\n",
       "      <th>9</th>\n",
       "      <th>10</th>\n",
       "    </tr>\n",
       "  </thead>\n",
       "  <tbody>\n",
       "    <tr>\n",
       "      <th>count</th>\n",
       "      <td>98171.000000</td>\n",
       "      <td>98171.000000</td>\n",
       "      <td>98171.000000</td>\n",
       "      <td>98171.000000</td>\n",
       "      <td>98171.000000</td>\n",
       "      <td>98171.000000</td>\n",
       "      <td>98171.000000</td>\n",
       "      <td>98171.000000</td>\n",
       "      <td>98171.000000</td>\n",
       "      <td>98171.000000</td>\n",
       "      <td>98171.000000</td>\n",
       "    </tr>\n",
       "    <tr>\n",
       "      <th>mean</th>\n",
       "      <td>0.670483</td>\n",
       "      <td>0.177517</td>\n",
       "      <td>0.316947</td>\n",
       "      <td>0.393276</td>\n",
       "      <td>0.000835</td>\n",
       "      <td>0.500660</td>\n",
       "      <td>0.822483</td>\n",
       "      <td>0.932322</td>\n",
       "      <td>0.461281</td>\n",
       "      <td>0.299997</td>\n",
       "      <td>0.382588</td>\n",
       "    </tr>\n",
       "    <tr>\n",
       "      <th>std</th>\n",
       "      <td>0.257464</td>\n",
       "      <td>0.382107</td>\n",
       "      <td>0.465289</td>\n",
       "      <td>0.226425</td>\n",
       "      <td>0.028889</td>\n",
       "      <td>0.211655</td>\n",
       "      <td>0.382107</td>\n",
       "      <td>0.251194</td>\n",
       "      <td>0.255043</td>\n",
       "      <td>0.458259</td>\n",
       "      <td>0.380872</td>\n",
       "    </tr>\n",
       "    <tr>\n",
       "      <th>min</th>\n",
       "      <td>0.000000</td>\n",
       "      <td>0.000000</td>\n",
       "      <td>0.000000</td>\n",
       "      <td>0.000000</td>\n",
       "      <td>0.000000</td>\n",
       "      <td>0.000000</td>\n",
       "      <td>0.000000</td>\n",
       "      <td>0.000000</td>\n",
       "      <td>0.000000</td>\n",
       "      <td>0.000000</td>\n",
       "      <td>0.000000</td>\n",
       "    </tr>\n",
       "    <tr>\n",
       "      <th>25%</th>\n",
       "      <td>0.500000</td>\n",
       "      <td>0.000000</td>\n",
       "      <td>0.000000</td>\n",
       "      <td>0.285714</td>\n",
       "      <td>0.000000</td>\n",
       "      <td>0.356061</td>\n",
       "      <td>1.000000</td>\n",
       "      <td>1.000000</td>\n",
       "      <td>0.191083</td>\n",
       "      <td>0.000000</td>\n",
       "      <td>0.000000</td>\n",
       "    </tr>\n",
       "    <tr>\n",
       "      <th>50%</th>\n",
       "      <td>0.500000</td>\n",
       "      <td>0.000000</td>\n",
       "      <td>0.000000</td>\n",
       "      <td>0.285714</td>\n",
       "      <td>0.000000</td>\n",
       "      <td>0.464967</td>\n",
       "      <td>1.000000</td>\n",
       "      <td>1.000000</td>\n",
       "      <td>0.554140</td>\n",
       "      <td>0.000000</td>\n",
       "      <td>0.500000</td>\n",
       "    </tr>\n",
       "    <tr>\n",
       "      <th>75%</th>\n",
       "      <td>1.000000</td>\n",
       "      <td>0.000000</td>\n",
       "      <td>1.000000</td>\n",
       "      <td>0.571429</td>\n",
       "      <td>0.000000</td>\n",
       "      <td>0.613636</td>\n",
       "      <td>1.000000</td>\n",
       "      <td>1.000000</td>\n",
       "      <td>0.617834</td>\n",
       "      <td>1.000000</td>\n",
       "      <td>0.500000</td>\n",
       "    </tr>\n",
       "    <tr>\n",
       "      <th>max</th>\n",
       "      <td>1.000000</td>\n",
       "      <td>1.000000</td>\n",
       "      <td>1.000000</td>\n",
       "      <td>1.000000</td>\n",
       "      <td>1.000000</td>\n",
       "      <td>1.000000</td>\n",
       "      <td>1.000000</td>\n",
       "      <td>1.000000</td>\n",
       "      <td>1.000000</td>\n",
       "      <td>1.000000</td>\n",
       "      <td>1.000000</td>\n",
       "    </tr>\n",
       "  </tbody>\n",
       "</table>\n",
       "</div>"
      ],
      "text/plain": [
       "                 0             1             2             3             4   \\\n",
       "count  98171.000000  98171.000000  98171.000000  98171.000000  98171.000000   \n",
       "mean       0.670483      0.177517      0.316947      0.393276      0.000835   \n",
       "std        0.257464      0.382107      0.465289      0.226425      0.028889   \n",
       "min        0.000000      0.000000      0.000000      0.000000      0.000000   \n",
       "25%        0.500000      0.000000      0.000000      0.285714      0.000000   \n",
       "50%        0.500000      0.000000      0.000000      0.285714      0.000000   \n",
       "75%        1.000000      0.000000      1.000000      0.571429      0.000000   \n",
       "max        1.000000      1.000000      1.000000      1.000000      1.000000   \n",
       "\n",
       "                 5             6             7             8             9   \\\n",
       "count  98171.000000  98171.000000  98171.000000  98171.000000  98171.000000   \n",
       "mean       0.500660      0.822483      0.932322      0.461281      0.299997   \n",
       "std        0.211655      0.382107      0.251194      0.255043      0.458259   \n",
       "min        0.000000      0.000000      0.000000      0.000000      0.000000   \n",
       "25%        0.356061      1.000000      1.000000      0.191083      0.000000   \n",
       "50%        0.464967      1.000000      1.000000      0.554140      0.000000   \n",
       "75%        0.613636      1.000000      1.000000      0.617834      1.000000   \n",
       "max        1.000000      1.000000      1.000000      1.000000      1.000000   \n",
       "\n",
       "                 10  \n",
       "count  98171.000000  \n",
       "mean       0.382588  \n",
       "std        0.380872  \n",
       "min        0.000000  \n",
       "25%        0.000000  \n",
       "50%        0.500000  \n",
       "75%        0.500000  \n",
       "max        1.000000  "
      ]
     },
     "execution_count": 888,
     "metadata": {},
     "output_type": "execute_result"
    }
   ],
   "source": [
    "scaled_data1.describe()"
   ]
  },
  {
   "cell_type": "markdown",
   "id": "a9730081",
   "metadata": {},
   "source": [
    "# Train-Test Split"
   ]
  },
  {
   "cell_type": "code",
   "execution_count": 889,
   "id": "81c65daa",
   "metadata": {},
   "outputs": [],
   "source": [
    "x = data.drop('is_train',axis = 1).values\n",
    "y = data['is_train'].values"
   ]
  },
  {
   "cell_type": "code",
   "execution_count": 890,
   "id": "cfe28e72",
   "metadata": {},
   "outputs": [],
   "source": [
    "from sklearn.model_selection import train_test_split\n",
    "x_train , x_test , y_train , y_test = train_test_split(x,y,test_size=0.2,random_state=5)"
   ]
  },
  {
   "cell_type": "markdown",
   "id": "100e7501",
   "metadata": {},
   "source": [
    "# Logistic Regression"
   ]
  },
  {
   "cell_type": "code",
   "execution_count": 911,
   "id": "c4766c30",
   "metadata": {},
   "outputs": [],
   "source": [
    "from sklearn.linear_model import LogisticRegression"
   ]
  },
  {
   "cell_type": "code",
   "execution_count": 912,
   "id": "27d903e8",
   "metadata": {},
   "outputs": [],
   "source": [
    "model=LogisticRegression()"
   ]
  },
  {
   "cell_type": "code",
   "execution_count": 913,
   "id": "50d20c4e",
   "metadata": {},
   "outputs": [
    {
     "data": {
      "text/plain": [
       "LogisticRegression()"
      ]
     },
     "execution_count": 913,
     "metadata": {},
     "output_type": "execute_result"
    }
   ],
   "source": [
    "model.fit(x_train,y_train)"
   ]
  },
  {
   "cell_type": "code",
   "execution_count": 914,
   "id": "d3eabdc3",
   "metadata": {},
   "outputs": [],
   "source": [
    "predicted_y=model.predict(x_test)"
   ]
  },
  {
   "cell_type": "code",
   "execution_count": 979,
   "id": "34bfabe6",
   "metadata": {},
   "outputs": [],
   "source": [
    "abc = model.score(x_test,y_test)"
   ]
  },
  {
   "cell_type": "code",
   "execution_count": 916,
   "id": "5ab59e60",
   "metadata": {},
   "outputs": [],
   "source": [
    "from sklearn.metrics import confusion_matrix"
   ]
  },
  {
   "cell_type": "code",
   "execution_count": 917,
   "id": "424d49b7",
   "metadata": {},
   "outputs": [
    {
     "data": {
      "text/plain": [
       "array([[13755,     0],\n",
       "       [ 5880,     0]], dtype=int64)"
      ]
     },
     "execution_count": 917,
     "metadata": {},
     "output_type": "execute_result"
    }
   ],
   "source": [
    "confusion_matrix(y_test,predicted_y)"
   ]
  },
  {
   "cell_type": "code",
   "execution_count": 918,
   "id": "2824c7ad",
   "metadata": {},
   "outputs": [],
   "source": [
    "from sklearn.metrics import precision_score,recall_score,f1_score,classification_report"
   ]
  },
  {
   "cell_type": "code",
   "execution_count": 919,
   "id": "70865f87",
   "metadata": {},
   "outputs": [
    {
     "name": "stderr",
     "output_type": "stream",
     "text": [
      "C:\\Users\\senth\\Anaconda3\\lib\\site-packages\\sklearn\\metrics\\_classification.py:1248: UndefinedMetricWarning: Precision is ill-defined and being set to 0.0 in labels with no predicted samples. Use `zero_division` parameter to control this behavior.\n",
      "  _warn_prf(average, modifier, msg_start, len(result))\n"
     ]
    },
    {
     "data": {
      "text/plain": [
       "array([0.70053476, 0.        ])"
      ]
     },
     "execution_count": 919,
     "metadata": {},
     "output_type": "execute_result"
    }
   ],
   "source": [
    "precision_score(y_test, predicted_y, average=None)"
   ]
  },
  {
   "cell_type": "code",
   "execution_count": 920,
   "id": "a72e6c6c",
   "metadata": {},
   "outputs": [
    {
     "data": {
      "text/plain": [
       "array([1., 0.])"
      ]
     },
     "execution_count": 920,
     "metadata": {},
     "output_type": "execute_result"
    }
   ],
   "source": [
    "recall_score(y_test, predicted_y, average=None)"
   ]
  },
  {
   "cell_type": "code",
   "execution_count": 921,
   "id": "4eac13af",
   "metadata": {},
   "outputs": [
    {
     "data": {
      "text/plain": [
       "array([0.82389937, 0.        ])"
      ]
     },
     "execution_count": 921,
     "metadata": {},
     "output_type": "execute_result"
    }
   ],
   "source": [
    "f1_score(y_test, predicted_y, average=None)"
   ]
  },
  {
   "cell_type": "code",
   "execution_count": 952,
   "id": "aea1cc95",
   "metadata": {},
   "outputs": [
    {
     "data": {
      "text/html": [
       "<div>\n",
       "<style scoped>\n",
       "    .dataframe tbody tr th:only-of-type {\n",
       "        vertical-align: middle;\n",
       "    }\n",
       "\n",
       "    .dataframe tbody tr th {\n",
       "        vertical-align: top;\n",
       "    }\n",
       "\n",
       "    .dataframe thead th {\n",
       "        text-align: right;\n",
       "    }\n",
       "</style>\n",
       "<table border=\"1\" class=\"dataframe\">\n",
       "  <thead>\n",
       "    <tr style=\"text-align: right;\">\n",
       "      <th></th>\n",
       "      <th>precision</th>\n",
       "      <th>recall</th>\n",
       "      <th>f1-score</th>\n",
       "      <th>support</th>\n",
       "    </tr>\n",
       "  </thead>\n",
       "  <tbody>\n",
       "    <tr>\n",
       "      <th>0</th>\n",
       "      <td>0.700535</td>\n",
       "      <td>1.000000</td>\n",
       "      <td>0.823899</td>\n",
       "      <td>13755.000000</td>\n",
       "    </tr>\n",
       "    <tr>\n",
       "      <th>1</th>\n",
       "      <td>1.000000</td>\n",
       "      <td>0.000000</td>\n",
       "      <td>0.000000</td>\n",
       "      <td>5880.000000</td>\n",
       "    </tr>\n",
       "    <tr>\n",
       "      <th>accuracy</th>\n",
       "      <td>0.700535</td>\n",
       "      <td>0.700535</td>\n",
       "      <td>0.700535</td>\n",
       "      <td>0.700535</td>\n",
       "    </tr>\n",
       "    <tr>\n",
       "      <th>macro avg</th>\n",
       "      <td>0.850267</td>\n",
       "      <td>0.500000</td>\n",
       "      <td>0.411950</td>\n",
       "      <td>19635.000000</td>\n",
       "    </tr>\n",
       "    <tr>\n",
       "      <th>weighted avg</th>\n",
       "      <td>0.790214</td>\n",
       "      <td>0.700535</td>\n",
       "      <td>0.577170</td>\n",
       "      <td>19635.000000</td>\n",
       "    </tr>\n",
       "  </tbody>\n",
       "</table>\n",
       "</div>"
      ],
      "text/plain": [
       "              precision    recall  f1-score       support\n",
       "0             0.700535   1.000000  0.823899  13755.000000\n",
       "1             1.000000   0.000000  0.000000  5880.000000 \n",
       "accuracy      0.700535   0.700535  0.700535  0.700535    \n",
       "macro avg     0.850267   0.500000  0.411950  19635.000000\n",
       "weighted avg  0.790214   0.700535  0.577170  19635.000000"
      ]
     },
     "execution_count": 952,
     "metadata": {},
     "output_type": "execute_result"
    }
   ],
   "source": [
    "pd.DataFrame(classification_report(y_test,predicted_y,output_dict = True,zero_division = 1)).T  #zeo_division for removing warning"
   ]
  },
  {
   "cell_type": "markdown",
   "id": "5fc80959",
   "metadata": {},
   "source": [
    "# Random Forest"
   ]
  },
  {
   "cell_type": "code",
   "execution_count": 943,
   "id": "b64d8e06",
   "metadata": {},
   "outputs": [],
   "source": [
    "from sklearn.ensemble import RandomForestClassifier"
   ]
  },
  {
   "cell_type": "code",
   "execution_count": 944,
   "id": "5456c6f8",
   "metadata": {},
   "outputs": [],
   "source": [
    "model = RandomForestClassifier(n_estimators = 1000,random_state = 42)"
   ]
  },
  {
   "cell_type": "code",
   "execution_count": 945,
   "id": "ad08e363",
   "metadata": {},
   "outputs": [
    {
     "data": {
      "text/plain": [
       "RandomForestClassifier(n_estimators=1000, random_state=42)"
      ]
     },
     "execution_count": 945,
     "metadata": {},
     "output_type": "execute_result"
    }
   ],
   "source": [
    "model.fit(x_train,y_train)"
   ]
  },
  {
   "cell_type": "code",
   "execution_count": 946,
   "id": "b3025d13",
   "metadata": {},
   "outputs": [],
   "source": [
    "predict = model.predict(x_test)"
   ]
  },
  {
   "cell_type": "code",
   "execution_count": 980,
   "id": "ab50eb7c",
   "metadata": {},
   "outputs": [],
   "source": [
    "mno = model.score(x_test,y_test)"
   ]
  },
  {
   "cell_type": "code",
   "execution_count": 948,
   "id": "ad2af777",
   "metadata": {},
   "outputs": [
    {
     "data": {
      "text/plain": [
       "array([[10376,  3379],\n",
       "       [ 4367,  1513]], dtype=int64)"
      ]
     },
     "execution_count": 948,
     "metadata": {},
     "output_type": "execute_result"
    }
   ],
   "source": [
    "confusion_matrix(y_test,predict)"
   ]
  },
  {
   "cell_type": "code",
   "execution_count": 949,
   "id": "9e4dd921",
   "metadata": {},
   "outputs": [
    {
     "data": {
      "text/plain": [
       "array([0.70379163, 0.30928046])"
      ]
     },
     "execution_count": 949,
     "metadata": {},
     "output_type": "execute_result"
    }
   ],
   "source": [
    "precision_score(y_test, predict, average=None)"
   ]
  },
  {
   "cell_type": "code",
   "execution_count": 950,
   "id": "3381813d",
   "metadata": {},
   "outputs": [
    {
     "data": {
      "text/plain": [
       "array([0.75434387, 0.25731293])"
      ]
     },
     "execution_count": 950,
     "metadata": {},
     "output_type": "execute_result"
    }
   ],
   "source": [
    "recall_score(y_test, predict, average=None)"
   ]
  },
  {
   "cell_type": "code",
   "execution_count": 959,
   "id": "c995c02e",
   "metadata": {},
   "outputs": [
    {
     "data": {
      "text/plain": [
       "array([0.72819145, 0.28091348])"
      ]
     },
     "execution_count": 959,
     "metadata": {},
     "output_type": "execute_result"
    }
   ],
   "source": [
    "f1_score(y_test, predict, average=None)"
   ]
  },
  {
   "cell_type": "code",
   "execution_count": 954,
   "id": "49517665",
   "metadata": {},
   "outputs": [
    {
     "data": {
      "text/html": [
       "<div>\n",
       "<style scoped>\n",
       "    .dataframe tbody tr th:only-of-type {\n",
       "        vertical-align: middle;\n",
       "    }\n",
       "\n",
       "    .dataframe tbody tr th {\n",
       "        vertical-align: top;\n",
       "    }\n",
       "\n",
       "    .dataframe thead th {\n",
       "        text-align: right;\n",
       "    }\n",
       "</style>\n",
       "<table border=\"1\" class=\"dataframe\">\n",
       "  <thead>\n",
       "    <tr style=\"text-align: right;\">\n",
       "      <th></th>\n",
       "      <th>precision</th>\n",
       "      <th>recall</th>\n",
       "      <th>f1-score</th>\n",
       "      <th>support</th>\n",
       "    </tr>\n",
       "  </thead>\n",
       "  <tbody>\n",
       "    <tr>\n",
       "      <th>0</th>\n",
       "      <td>0.703792</td>\n",
       "      <td>0.754344</td>\n",
       "      <td>0.728191</td>\n",
       "      <td>13755.0000</td>\n",
       "    </tr>\n",
       "    <tr>\n",
       "      <th>1</th>\n",
       "      <td>0.309280</td>\n",
       "      <td>0.257313</td>\n",
       "      <td>0.280913</td>\n",
       "      <td>5880.0000</td>\n",
       "    </tr>\n",
       "    <tr>\n",
       "      <th>accuracy</th>\n",
       "      <td>0.605500</td>\n",
       "      <td>0.605500</td>\n",
       "      <td>0.605500</td>\n",
       "      <td>0.6055</td>\n",
       "    </tr>\n",
       "    <tr>\n",
       "      <th>macro avg</th>\n",
       "      <td>0.506536</td>\n",
       "      <td>0.505828</td>\n",
       "      <td>0.504552</td>\n",
       "      <td>19635.0000</td>\n",
       "    </tr>\n",
       "    <tr>\n",
       "      <th>weighted avg</th>\n",
       "      <td>0.585649</td>\n",
       "      <td>0.605500</td>\n",
       "      <td>0.594247</td>\n",
       "      <td>19635.0000</td>\n",
       "    </tr>\n",
       "  </tbody>\n",
       "</table>\n",
       "</div>"
      ],
      "text/plain": [
       "              precision    recall  f1-score     support\n",
       "0             0.703792   0.754344  0.728191  13755.0000\n",
       "1             0.309280   0.257313  0.280913  5880.0000 \n",
       "accuracy      0.605500   0.605500  0.605500  0.6055    \n",
       "macro avg     0.506536   0.505828  0.504552  19635.0000\n",
       "weighted avg  0.585649   0.605500  0.594247  19635.0000"
      ]
     },
     "execution_count": 954,
     "metadata": {},
     "output_type": "execute_result"
    }
   ],
   "source": [
    "pd.DataFrame(classification_report(y_test,predict,output_dict = True)).T"
   ]
  },
  {
   "cell_type": "markdown",
   "id": "a10c7840",
   "metadata": {},
   "source": [
    "# ADABOOSTING CLASSIFIER"
   ]
  },
  {
   "cell_type": "code",
   "execution_count": 956,
   "id": "3a5294e2",
   "metadata": {},
   "outputs": [],
   "source": [
    "from sklearn.ensemble import AdaBoostClassifier"
   ]
  },
  {
   "cell_type": "code",
   "execution_count": 957,
   "id": "cdf1732d",
   "metadata": {},
   "outputs": [],
   "source": [
    "model = AdaBoostClassifier(n_estimators = 1000,random_state = 42)"
   ]
  },
  {
   "cell_type": "code",
   "execution_count": 958,
   "id": "fe745d2e",
   "metadata": {},
   "outputs": [
    {
     "data": {
      "text/plain": [
       "AdaBoostClassifier(n_estimators=1000, random_state=42)"
      ]
     },
     "execution_count": 958,
     "metadata": {},
     "output_type": "execute_result"
    }
   ],
   "source": [
    "model.fit(x_train,y_train)"
   ]
  },
  {
   "cell_type": "code",
   "execution_count": 960,
   "id": "278daae8",
   "metadata": {},
   "outputs": [],
   "source": [
    "predict_y = model.predict(x_test)"
   ]
  },
  {
   "cell_type": "code",
   "execution_count": 981,
   "id": "ade842b6",
   "metadata": {},
   "outputs": [],
   "source": [
    "xyz = model.score(x_test,y_test)"
   ]
  },
  {
   "cell_type": "code",
   "execution_count": 962,
   "id": "47630a5f",
   "metadata": {},
   "outputs": [
    {
     "data": {
      "text/plain": [
       "array([[13746,     9],\n",
       "       [ 5873,     7]], dtype=int64)"
      ]
     },
     "execution_count": 962,
     "metadata": {},
     "output_type": "execute_result"
    }
   ],
   "source": [
    "confusion_matrix(y_test,predict_y)"
   ]
  },
  {
   "cell_type": "code",
   "execution_count": 963,
   "id": "91f2e1d9",
   "metadata": {},
   "outputs": [
    {
     "data": {
      "text/plain": [
       "array([0.70064733, 0.4375    ])"
      ]
     },
     "execution_count": 963,
     "metadata": {},
     "output_type": "execute_result"
    }
   ],
   "source": [
    "precision_score(y_test, predict_y, average=None)"
   ]
  },
  {
   "cell_type": "code",
   "execution_count": 964,
   "id": "edf0726e",
   "metadata": {},
   "outputs": [
    {
     "data": {
      "text/plain": [
       "array([0.99934569, 0.00119048])"
      ]
     },
     "execution_count": 964,
     "metadata": {},
     "output_type": "execute_result"
    }
   ],
   "source": [
    "recall_score(y_test, predict_y, average=None)"
   ]
  },
  {
   "cell_type": "code",
   "execution_count": 965,
   "id": "e8b245f8",
   "metadata": {},
   "outputs": [
    {
     "data": {
      "text/plain": [
       "array([0.82375502, 0.00237449])"
      ]
     },
     "execution_count": 965,
     "metadata": {},
     "output_type": "execute_result"
    }
   ],
   "source": [
    "f1_score(y_test, predict_y, average=None)"
   ]
  },
  {
   "cell_type": "code",
   "execution_count": 966,
   "id": "95c868ae",
   "metadata": {},
   "outputs": [
    {
     "data": {
      "text/html": [
       "<div>\n",
       "<style scoped>\n",
       "    .dataframe tbody tr th:only-of-type {\n",
       "        vertical-align: middle;\n",
       "    }\n",
       "\n",
       "    .dataframe tbody tr th {\n",
       "        vertical-align: top;\n",
       "    }\n",
       "\n",
       "    .dataframe thead th {\n",
       "        text-align: right;\n",
       "    }\n",
       "</style>\n",
       "<table border=\"1\" class=\"dataframe\">\n",
       "  <thead>\n",
       "    <tr style=\"text-align: right;\">\n",
       "      <th></th>\n",
       "      <th>precision</th>\n",
       "      <th>recall</th>\n",
       "      <th>f1-score</th>\n",
       "      <th>support</th>\n",
       "    </tr>\n",
       "  </thead>\n",
       "  <tbody>\n",
       "    <tr>\n",
       "      <th>0</th>\n",
       "      <td>0.700647</td>\n",
       "      <td>0.999346</td>\n",
       "      <td>0.823755</td>\n",
       "      <td>13755.000000</td>\n",
       "    </tr>\n",
       "    <tr>\n",
       "      <th>1</th>\n",
       "      <td>0.437500</td>\n",
       "      <td>0.001190</td>\n",
       "      <td>0.002374</td>\n",
       "      <td>5880.000000</td>\n",
       "    </tr>\n",
       "    <tr>\n",
       "      <th>accuracy</th>\n",
       "      <td>0.700433</td>\n",
       "      <td>0.700433</td>\n",
       "      <td>0.700433</td>\n",
       "      <td>0.700433</td>\n",
       "    </tr>\n",
       "    <tr>\n",
       "      <th>macro avg</th>\n",
       "      <td>0.569074</td>\n",
       "      <td>0.500268</td>\n",
       "      <td>0.413065</td>\n",
       "      <td>19635.000000</td>\n",
       "    </tr>\n",
       "    <tr>\n",
       "      <th>weighted avg</th>\n",
       "      <td>0.621844</td>\n",
       "      <td>0.700433</td>\n",
       "      <td>0.577780</td>\n",
       "      <td>19635.000000</td>\n",
       "    </tr>\n",
       "  </tbody>\n",
       "</table>\n",
       "</div>"
      ],
      "text/plain": [
       "              precision    recall  f1-score       support\n",
       "0             0.700647   0.999346  0.823755  13755.000000\n",
       "1             0.437500   0.001190  0.002374  5880.000000 \n",
       "accuracy      0.700433   0.700433  0.700433  0.700433    \n",
       "macro avg     0.569074   0.500268  0.413065  19635.000000\n",
       "weighted avg  0.621844   0.700433  0.577780  19635.000000"
      ]
     },
     "execution_count": 966,
     "metadata": {},
     "output_type": "execute_result"
    }
   ],
   "source": [
    "pd.DataFrame(classification_report(y_test,predict_y,output_dict = True)).T"
   ]
  },
  {
   "cell_type": "code",
   "execution_count": 992,
   "id": "6ad93429",
   "metadata": {},
   "outputs": [
    {
     "name": "stdout",
     "output_type": "stream",
     "text": [
      "[['LOGISTIC REGRESSION', 0.7005347593582888], ['RANDOM FOREST CLASSIFIER', 0.7005347593582888], ['ADA BOOSTING CLASSIFIER', 0.7005347593582888]]\n"
     ]
    }
   ],
   "source": [
    "final = [abc,mno,xyz]\n",
    "table = [['LOGISTIC REGRESSION',abc],['RANDOM FOREST CLASSIFIER',mno],['ADA BOOSTING CLASSIFIER',xyz]]\n",
    "print(table)"
   ]
  },
  {
   "cell_type": "code",
   "execution_count": 993,
   "id": "c350baee",
   "metadata": {},
   "outputs": [
    {
     "name": "stdout",
     "output_type": "stream",
     "text": [
      "['LOGISTIC REGRESSION', 0.7005347593582888]  IS THE BEST FIT!\n"
     ]
    }
   ],
   "source": [
    "print(table[final.index(max(final))],\" IS THE BEST FIT!\")"
   ]
  },
  {
   "cell_type": "code",
   "execution_count": null,
   "id": "19d90b67",
   "metadata": {},
   "outputs": [],
   "source": []
  },
  {
   "cell_type": "code",
   "execution_count": null,
   "id": "f576a154",
   "metadata": {},
   "outputs": [],
   "source": []
  },
  {
   "cell_type": "code",
   "execution_count": null,
   "id": "6d366abc",
   "metadata": {},
   "outputs": [],
   "source": []
  },
  {
   "cell_type": "code",
   "execution_count": null,
   "id": "c1d20de1",
   "metadata": {},
   "outputs": [],
   "source": []
  }
 ],
 "metadata": {
  "kernelspec": {
   "display_name": "Python 3 (ipykernel)",
   "language": "python",
   "name": "python3"
  },
  "language_info": {
   "codemirror_mode": {
    "name": "ipython",
    "version": 3
   },
   "file_extension": ".py",
   "mimetype": "text/x-python",
   "name": "python",
   "nbconvert_exporter": "python",
   "pygments_lexer": "ipython3",
   "version": "3.9.7"
  }
 },
 "nbformat": 4,
 "nbformat_minor": 5
}
